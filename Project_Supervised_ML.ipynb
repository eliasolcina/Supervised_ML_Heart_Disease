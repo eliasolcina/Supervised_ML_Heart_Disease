{
 "cells": [
  {
   "cell_type": "markdown",
   "id": "3ba48ced",
   "metadata": {},
   "source": [
    "# ML Project\n",
    "\n",
    "Creating a supervised Machine Learning model to predict whether a patient has heartdisease or not\n",
    "\n",
    "Data retrieved from Kaggle: https://www.kaggle.com/datasets/fedesoriano/heart-failure-prediction (2022-12-7)\n",
    "\n",
    "- Age: age of the patient \n",
    "    - [years]\n",
    "- Sex: sex of the patient \n",
    "    - [M: Male, F: Female]\n",
    "- ChestPainType: chest pain type \n",
    "    - [TA: Typical Angina, ATA: Atypical Angina, NAP: Non-Anginal Pain, ASY: Asymptomatic]\n",
    "- RestingBP: resting blood pressure \n",
    "    - [mm Hg]\n",
    "- Cholesterol: serum cholesterol \n",
    "    - [mm/dl]\n",
    "- FastingBS: fasting blood sugar \n",
    "    - [1: if FastingBS > 120 mg/dl, 0: otherwise]\n",
    "- RestingECG: resting electrocardiogram results \n",
    "    - [Normal: Normal, ST: having ST-T wave abnormality (T wave inversions and/or ST elevation or depression of > 0.05 mV), LVH: showing probable or definite left ventricular hypertrophy by Estes' criteria]\n",
    "- MaxHR: maximum heart rate achieved \n",
    "    - [Numeric value between 60 and 202]\n",
    "- ExerciseAngina: exercise-induced angina \n",
    "    - [Y: Yes, N: No]\n",
    "- Oldpeak: oldpeak = ST \n",
    "    - [Numeric value measured in depression]\n",
    "- ST_Slope: the slope of the peak exercise ST segment \n",
    "    - [Up: upsloping, Flat: flat, Down: downsloping]\n",
    "- HeartDisease: output class \n",
    "    - [1: heart disease, 0: Normal]\n",
    "    \n",
    "Since I am investigating heart disease in this project, I have decided to go for maximizing **recall**. This is because of the fact that I regard a false negative worse than a false positive."
   ]
  },
  {
   "cell_type": "code",
   "execution_count": 426,
   "id": "968855da",
   "metadata": {},
   "outputs": [],
   "source": [
    "import pandas as pd\n",
    "import numpy as np\n",
    "import seaborn as sns\n",
    "import matplotlib.pyplot as plt\n",
    "\n",
    "from sklearn.model_selection import train_test_split\n",
    "\n",
    "from sklearn.model_selection import train_test_split\n",
    "from sklearn.linear_model import LogisticRegression\n",
    "from sklearn.tree import DecisionTreeClassifier\n",
    "from sklearn.ensemble import RandomForestClassifier\n",
    "from sklearn.svm import SVC\n",
    "from sklearn.neighbors import KNeighborsClassifier\n",
    "from sklearn.discriminant_analysis import LinearDiscriminantAnalysis\n",
    "from sklearn.naive_bayes import GaussianNB\n",
    "\n",
    "from sklearn.preprocessing import StandardScaler\n",
    "from sklearn.model_selection import GridSearchCV\n",
    "from sklearn.pipeline import make_pipeline\n",
    "\n",
    "from sklearn.preprocessing import OneHotEncoder, StandardScaler, RobustScaler\n",
    "from sklearn.compose import make_column_selector, make_column_transformer\n",
    "\n",
    "from sklearn.metrics import classification_report\n",
    "from sklearn import metrics\n",
    "from sklearn.metrics import confusion_matrix, ConfusionMatrixDisplay\n",
    "from sklearn.metrics import accuracy_score, precision_score, recall_score, f1_score\n",
    "\n",
    "from sklearn.base import BaseEstimator, TransformerMixin\n",
    "from sklearn.utils.validation import check_is_fitted\n",
    "from sklearn.pipeline import Pipeline\n",
    "from sklearn.impute import SimpleImputer"
   ]
  },
  {
   "cell_type": "markdown",
   "id": "411a7731",
   "metadata": {},
   "source": [
    "## Data Cleaning"
   ]
  },
  {
   "cell_type": "code",
   "execution_count": 371,
   "id": "fc532ea4",
   "metadata": {},
   "outputs": [],
   "source": [
    "df = pd.read_csv(\"heart.csv\")"
   ]
  },
  {
   "cell_type": "code",
   "execution_count": 372,
   "id": "6b49698b",
   "metadata": {},
   "outputs": [
    {
     "data": {
      "text/html": [
       "<div>\n",
       "<style scoped>\n",
       "    .dataframe tbody tr th:only-of-type {\n",
       "        vertical-align: middle;\n",
       "    }\n",
       "\n",
       "    .dataframe tbody tr th {\n",
       "        vertical-align: top;\n",
       "    }\n",
       "\n",
       "    .dataframe thead th {\n",
       "        text-align: right;\n",
       "    }\n",
       "</style>\n",
       "<table border=\"1\" class=\"dataframe\">\n",
       "  <thead>\n",
       "    <tr style=\"text-align: right;\">\n",
       "      <th></th>\n",
       "      <th>Age</th>\n",
       "      <th>Sex</th>\n",
       "      <th>ChestPainType</th>\n",
       "      <th>RestingBP</th>\n",
       "      <th>Cholesterol</th>\n",
       "      <th>FastingBS</th>\n",
       "      <th>RestingECG</th>\n",
       "      <th>MaxHR</th>\n",
       "      <th>ExerciseAngina</th>\n",
       "      <th>Oldpeak</th>\n",
       "      <th>ST_Slope</th>\n",
       "      <th>HeartDisease</th>\n",
       "    </tr>\n",
       "  </thead>\n",
       "  <tbody>\n",
       "    <tr>\n",
       "      <th>0</th>\n",
       "      <td>40</td>\n",
       "      <td>M</td>\n",
       "      <td>ATA</td>\n",
       "      <td>140</td>\n",
       "      <td>289</td>\n",
       "      <td>0</td>\n",
       "      <td>Normal</td>\n",
       "      <td>172</td>\n",
       "      <td>N</td>\n",
       "      <td>0.0</td>\n",
       "      <td>Up</td>\n",
       "      <td>0</td>\n",
       "    </tr>\n",
       "    <tr>\n",
       "      <th>1</th>\n",
       "      <td>49</td>\n",
       "      <td>F</td>\n",
       "      <td>NAP</td>\n",
       "      <td>160</td>\n",
       "      <td>180</td>\n",
       "      <td>0</td>\n",
       "      <td>Normal</td>\n",
       "      <td>156</td>\n",
       "      <td>N</td>\n",
       "      <td>1.0</td>\n",
       "      <td>Flat</td>\n",
       "      <td>1</td>\n",
       "    </tr>\n",
       "    <tr>\n",
       "      <th>2</th>\n",
       "      <td>37</td>\n",
       "      <td>M</td>\n",
       "      <td>ATA</td>\n",
       "      <td>130</td>\n",
       "      <td>283</td>\n",
       "      <td>0</td>\n",
       "      <td>ST</td>\n",
       "      <td>98</td>\n",
       "      <td>N</td>\n",
       "      <td>0.0</td>\n",
       "      <td>Up</td>\n",
       "      <td>0</td>\n",
       "    </tr>\n",
       "    <tr>\n",
       "      <th>3</th>\n",
       "      <td>48</td>\n",
       "      <td>F</td>\n",
       "      <td>ASY</td>\n",
       "      <td>138</td>\n",
       "      <td>214</td>\n",
       "      <td>0</td>\n",
       "      <td>Normal</td>\n",
       "      <td>108</td>\n",
       "      <td>Y</td>\n",
       "      <td>1.5</td>\n",
       "      <td>Flat</td>\n",
       "      <td>1</td>\n",
       "    </tr>\n",
       "    <tr>\n",
       "      <th>4</th>\n",
       "      <td>54</td>\n",
       "      <td>M</td>\n",
       "      <td>NAP</td>\n",
       "      <td>150</td>\n",
       "      <td>195</td>\n",
       "      <td>0</td>\n",
       "      <td>Normal</td>\n",
       "      <td>122</td>\n",
       "      <td>N</td>\n",
       "      <td>0.0</td>\n",
       "      <td>Up</td>\n",
       "      <td>0</td>\n",
       "    </tr>\n",
       "  </tbody>\n",
       "</table>\n",
       "</div>"
      ],
      "text/plain": [
       "   Age Sex ChestPainType  RestingBP  Cholesterol  FastingBS RestingECG  MaxHR  \\\n",
       "0   40   M           ATA        140          289          0     Normal    172   \n",
       "1   49   F           NAP        160          180          0     Normal    156   \n",
       "2   37   M           ATA        130          283          0         ST     98   \n",
       "3   48   F           ASY        138          214          0     Normal    108   \n",
       "4   54   M           NAP        150          195          0     Normal    122   \n",
       "\n",
       "  ExerciseAngina  Oldpeak ST_Slope  HeartDisease  \n",
       "0              N      0.0       Up             0  \n",
       "1              N      1.0     Flat             1  \n",
       "2              N      0.0       Up             0  \n",
       "3              Y      1.5     Flat             1  \n",
       "4              N      0.0       Up             0  "
      ]
     },
     "execution_count": 372,
     "metadata": {},
     "output_type": "execute_result"
    }
   ],
   "source": [
    "df.head()"
   ]
  },
  {
   "cell_type": "code",
   "execution_count": 373,
   "id": "37a802f5",
   "metadata": {},
   "outputs": [
    {
     "name": "stdout",
     "output_type": "stream",
     "text": [
      "<class 'pandas.core.frame.DataFrame'>\n",
      "RangeIndex: 918 entries, 0 to 917\n",
      "Data columns (total 12 columns):\n",
      " #   Column          Non-Null Count  Dtype  \n",
      "---  ------          --------------  -----  \n",
      " 0   Age             918 non-null    int64  \n",
      " 1   Sex             918 non-null    object \n",
      " 2   ChestPainType   918 non-null    object \n",
      " 3   RestingBP       918 non-null    int64  \n",
      " 4   Cholesterol     918 non-null    int64  \n",
      " 5   FastingBS       918 non-null    int64  \n",
      " 6   RestingECG      918 non-null    object \n",
      " 7   MaxHR           918 non-null    int64  \n",
      " 8   ExerciseAngina  918 non-null    object \n",
      " 9   Oldpeak         918 non-null    float64\n",
      " 10  ST_Slope        918 non-null    object \n",
      " 11  HeartDisease    918 non-null    int64  \n",
      "dtypes: float64(1), int64(6), object(5)\n",
      "memory usage: 86.2+ KB\n"
     ]
    }
   ],
   "source": [
    "df.info()"
   ]
  },
  {
   "cell_type": "code",
   "execution_count": 489,
   "id": "eb18f76b",
   "metadata": {},
   "outputs": [
    {
     "data": {
      "text/plain": [
       "Index(['Age', 'Sex', 'ChestPainType', 'RestingBP', 'Cholesterol', 'FastingBS',\n",
       "       'RestingECG', 'MaxHR', 'ExerciseAngina', 'Oldpeak', 'ST_Slope',\n",
       "       'HeartDisease', 'grouped_ChestPainType', 'grouped_ST_Slope'],\n",
       "      dtype='object')"
      ]
     },
     "execution_count": 489,
     "metadata": {},
     "output_type": "execute_result"
    }
   ],
   "source": [
    "x(['Age', 'Sex', 'ChestPainType', 'RestingBP', 'Cholesterol', 'FastingBS',\n",
    "       'RestingECG', 'MaxHR', 'ExerciseAngina', 'Oldpeak', 'ST_Slope',\n",
    "       'HeartDisease', 'grouped_ChestPainType', 'grouped_ST_Slope'],"
   ]
  },
  {
   "cell_type": "markdown",
   "id": "ffa8fcd3",
   "metadata": {},
   "source": [
    "### Numerical Columns"
   ]
  },
  {
   "cell_type": "code",
   "execution_count": 374,
   "id": "9829eb5e",
   "metadata": {},
   "outputs": [
    {
     "data": {
      "text/html": [
       "<div>\n",
       "<style scoped>\n",
       "    .dataframe tbody tr th:only-of-type {\n",
       "        vertical-align: middle;\n",
       "    }\n",
       "\n",
       "    .dataframe tbody tr th {\n",
       "        vertical-align: top;\n",
       "    }\n",
       "\n",
       "    .dataframe thead th {\n",
       "        text-align: right;\n",
       "    }\n",
       "</style>\n",
       "<table border=\"1\" class=\"dataframe\">\n",
       "  <thead>\n",
       "    <tr style=\"text-align: right;\">\n",
       "      <th></th>\n",
       "      <th>Age</th>\n",
       "      <th>RestingBP</th>\n",
       "      <th>Cholesterol</th>\n",
       "      <th>FastingBS</th>\n",
       "      <th>MaxHR</th>\n",
       "      <th>Oldpeak</th>\n",
       "      <th>HeartDisease</th>\n",
       "    </tr>\n",
       "  </thead>\n",
       "  <tbody>\n",
       "    <tr>\n",
       "      <th>count</th>\n",
       "      <td>918.000000</td>\n",
       "      <td>918.000000</td>\n",
       "      <td>918.000000</td>\n",
       "      <td>918.000000</td>\n",
       "      <td>918.000000</td>\n",
       "      <td>918.000000</td>\n",
       "      <td>918.000000</td>\n",
       "    </tr>\n",
       "    <tr>\n",
       "      <th>mean</th>\n",
       "      <td>53.510893</td>\n",
       "      <td>132.396514</td>\n",
       "      <td>198.799564</td>\n",
       "      <td>0.233115</td>\n",
       "      <td>136.809368</td>\n",
       "      <td>0.887364</td>\n",
       "      <td>0.553377</td>\n",
       "    </tr>\n",
       "    <tr>\n",
       "      <th>std</th>\n",
       "      <td>9.432617</td>\n",
       "      <td>18.514154</td>\n",
       "      <td>109.384145</td>\n",
       "      <td>0.423046</td>\n",
       "      <td>25.460334</td>\n",
       "      <td>1.066570</td>\n",
       "      <td>0.497414</td>\n",
       "    </tr>\n",
       "    <tr>\n",
       "      <th>min</th>\n",
       "      <td>28.000000</td>\n",
       "      <td>0.000000</td>\n",
       "      <td>0.000000</td>\n",
       "      <td>0.000000</td>\n",
       "      <td>60.000000</td>\n",
       "      <td>-2.600000</td>\n",
       "      <td>0.000000</td>\n",
       "    </tr>\n",
       "    <tr>\n",
       "      <th>25%</th>\n",
       "      <td>47.000000</td>\n",
       "      <td>120.000000</td>\n",
       "      <td>173.250000</td>\n",
       "      <td>0.000000</td>\n",
       "      <td>120.000000</td>\n",
       "      <td>0.000000</td>\n",
       "      <td>0.000000</td>\n",
       "    </tr>\n",
       "    <tr>\n",
       "      <th>50%</th>\n",
       "      <td>54.000000</td>\n",
       "      <td>130.000000</td>\n",
       "      <td>223.000000</td>\n",
       "      <td>0.000000</td>\n",
       "      <td>138.000000</td>\n",
       "      <td>0.600000</td>\n",
       "      <td>1.000000</td>\n",
       "    </tr>\n",
       "    <tr>\n",
       "      <th>75%</th>\n",
       "      <td>60.000000</td>\n",
       "      <td>140.000000</td>\n",
       "      <td>267.000000</td>\n",
       "      <td>0.000000</td>\n",
       "      <td>156.000000</td>\n",
       "      <td>1.500000</td>\n",
       "      <td>1.000000</td>\n",
       "    </tr>\n",
       "    <tr>\n",
       "      <th>max</th>\n",
       "      <td>77.000000</td>\n",
       "      <td>200.000000</td>\n",
       "      <td>603.000000</td>\n",
       "      <td>1.000000</td>\n",
       "      <td>202.000000</td>\n",
       "      <td>6.200000</td>\n",
       "      <td>1.000000</td>\n",
       "    </tr>\n",
       "  </tbody>\n",
       "</table>\n",
       "</div>"
      ],
      "text/plain": [
       "              Age   RestingBP  Cholesterol   FastingBS       MaxHR  \\\n",
       "count  918.000000  918.000000   918.000000  918.000000  918.000000   \n",
       "mean    53.510893  132.396514   198.799564    0.233115  136.809368   \n",
       "std      9.432617   18.514154   109.384145    0.423046   25.460334   \n",
       "min     28.000000    0.000000     0.000000    0.000000   60.000000   \n",
       "25%     47.000000  120.000000   173.250000    0.000000  120.000000   \n",
       "50%     54.000000  130.000000   223.000000    0.000000  138.000000   \n",
       "75%     60.000000  140.000000   267.000000    0.000000  156.000000   \n",
       "max     77.000000  200.000000   603.000000    1.000000  202.000000   \n",
       "\n",
       "          Oldpeak  HeartDisease  \n",
       "count  918.000000    918.000000  \n",
       "mean     0.887364      0.553377  \n",
       "std      1.066570      0.497414  \n",
       "min     -2.600000      0.000000  \n",
       "25%      0.000000      0.000000  \n",
       "50%      0.600000      1.000000  \n",
       "75%      1.500000      1.000000  \n",
       "max      6.200000      1.000000  "
      ]
     },
     "execution_count": 374,
     "metadata": {},
     "output_type": "execute_result"
    }
   ],
   "source": [
    "df.describe()"
   ]
  },
  {
   "cell_type": "markdown",
   "id": "240fc412",
   "metadata": {},
   "source": [
    "As we can see in the table above, some of the variables have 0-values that do not make sense (such as Resting Blood Pressure). Since we cannot say for sure that these are wrong, and we don't want to remove the whole row, we will apply the RobustScaler to RestingBP."
   ]
  },
  {
   "cell_type": "code",
   "execution_count": 375,
   "id": "774961bf",
   "metadata": {},
   "outputs": [
    {
     "data": {
      "text/html": [
       "<div>\n",
       "<style scoped>\n",
       "    .dataframe tbody tr th:only-of-type {\n",
       "        vertical-align: middle;\n",
       "    }\n",
       "\n",
       "    .dataframe tbody tr th {\n",
       "        vertical-align: top;\n",
       "    }\n",
       "\n",
       "    .dataframe thead th {\n",
       "        text-align: right;\n",
       "    }\n",
       "</style>\n",
       "<table border=\"1\" class=\"dataframe\">\n",
       "  <thead>\n",
       "    <tr style=\"text-align: right;\">\n",
       "      <th></th>\n",
       "      <th>Age</th>\n",
       "      <th>Sex</th>\n",
       "      <th>ChestPainType</th>\n",
       "      <th>RestingBP</th>\n",
       "      <th>Cholesterol</th>\n",
       "      <th>FastingBS</th>\n",
       "      <th>RestingECG</th>\n",
       "      <th>MaxHR</th>\n",
       "      <th>ExerciseAngina</th>\n",
       "      <th>Oldpeak</th>\n",
       "      <th>ST_Slope</th>\n",
       "      <th>HeartDisease</th>\n",
       "    </tr>\n",
       "  </thead>\n",
       "  <tbody>\n",
       "    <tr>\n",
       "      <th>449</th>\n",
       "      <td>55</td>\n",
       "      <td>M</td>\n",
       "      <td>NAP</td>\n",
       "      <td>0</td>\n",
       "      <td>0</td>\n",
       "      <td>0</td>\n",
       "      <td>Normal</td>\n",
       "      <td>155</td>\n",
       "      <td>N</td>\n",
       "      <td>1.5</td>\n",
       "      <td>Flat</td>\n",
       "      <td>1</td>\n",
       "    </tr>\n",
       "  </tbody>\n",
       "</table>\n",
       "</div>"
      ],
      "text/plain": [
       "     Age Sex ChestPainType  RestingBP  Cholesterol  FastingBS RestingECG  \\\n",
       "449   55   M           NAP          0            0          0     Normal   \n",
       "\n",
       "     MaxHR ExerciseAngina  Oldpeak ST_Slope  HeartDisease  \n",
       "449    155              N      1.5     Flat             1  "
      ]
     },
     "execution_count": 375,
     "metadata": {},
     "output_type": "execute_result"
    }
   ],
   "source": [
    "df.loc[df[\"RestingBP\"] == 0]"
   ]
  },
  {
   "cell_type": "code",
   "execution_count": 376,
   "id": "b0359279",
   "metadata": {},
   "outputs": [
    {
     "data": {
      "text/html": [
       "<div>\n",
       "<style scoped>\n",
       "    .dataframe tbody tr th:only-of-type {\n",
       "        vertical-align: middle;\n",
       "    }\n",
       "\n",
       "    .dataframe tbody tr th {\n",
       "        vertical-align: top;\n",
       "    }\n",
       "\n",
       "    .dataframe thead th {\n",
       "        text-align: right;\n",
       "    }\n",
       "</style>\n",
       "<table border=\"1\" class=\"dataframe\">\n",
       "  <thead>\n",
       "    <tr style=\"text-align: right;\">\n",
       "      <th></th>\n",
       "      <th>Age</th>\n",
       "      <th>RestingBP</th>\n",
       "      <th>Cholesterol</th>\n",
       "      <th>FastingBS</th>\n",
       "      <th>MaxHR</th>\n",
       "      <th>Oldpeak</th>\n",
       "      <th>HeartDisease</th>\n",
       "    </tr>\n",
       "  </thead>\n",
       "  <tbody>\n",
       "    <tr>\n",
       "      <th>Age</th>\n",
       "      <td>1.000000</td>\n",
       "      <td>0.254399</td>\n",
       "      <td>-0.095282</td>\n",
       "      <td>0.198039</td>\n",
       "      <td>-0.382045</td>\n",
       "      <td>0.258612</td>\n",
       "      <td>0.282039</td>\n",
       "    </tr>\n",
       "    <tr>\n",
       "      <th>RestingBP</th>\n",
       "      <td>0.254399</td>\n",
       "      <td>1.000000</td>\n",
       "      <td>0.100893</td>\n",
       "      <td>0.070193</td>\n",
       "      <td>-0.112135</td>\n",
       "      <td>0.164803</td>\n",
       "      <td>0.107589</td>\n",
       "    </tr>\n",
       "    <tr>\n",
       "      <th>Cholesterol</th>\n",
       "      <td>-0.095282</td>\n",
       "      <td>0.100893</td>\n",
       "      <td>1.000000</td>\n",
       "      <td>-0.260974</td>\n",
       "      <td>0.235792</td>\n",
       "      <td>0.050148</td>\n",
       "      <td>-0.232741</td>\n",
       "    </tr>\n",
       "    <tr>\n",
       "      <th>FastingBS</th>\n",
       "      <td>0.198039</td>\n",
       "      <td>0.070193</td>\n",
       "      <td>-0.260974</td>\n",
       "      <td>1.000000</td>\n",
       "      <td>-0.131438</td>\n",
       "      <td>0.052698</td>\n",
       "      <td>0.267291</td>\n",
       "    </tr>\n",
       "    <tr>\n",
       "      <th>MaxHR</th>\n",
       "      <td>-0.382045</td>\n",
       "      <td>-0.112135</td>\n",
       "      <td>0.235792</td>\n",
       "      <td>-0.131438</td>\n",
       "      <td>1.000000</td>\n",
       "      <td>-0.160691</td>\n",
       "      <td>-0.400421</td>\n",
       "    </tr>\n",
       "    <tr>\n",
       "      <th>Oldpeak</th>\n",
       "      <td>0.258612</td>\n",
       "      <td>0.164803</td>\n",
       "      <td>0.050148</td>\n",
       "      <td>0.052698</td>\n",
       "      <td>-0.160691</td>\n",
       "      <td>1.000000</td>\n",
       "      <td>0.403951</td>\n",
       "    </tr>\n",
       "    <tr>\n",
       "      <th>HeartDisease</th>\n",
       "      <td>0.282039</td>\n",
       "      <td>0.107589</td>\n",
       "      <td>-0.232741</td>\n",
       "      <td>0.267291</td>\n",
       "      <td>-0.400421</td>\n",
       "      <td>0.403951</td>\n",
       "      <td>1.000000</td>\n",
       "    </tr>\n",
       "  </tbody>\n",
       "</table>\n",
       "</div>"
      ],
      "text/plain": [
       "                   Age  RestingBP  Cholesterol  FastingBS     MaxHR   Oldpeak  \\\n",
       "Age           1.000000   0.254399    -0.095282   0.198039 -0.382045  0.258612   \n",
       "RestingBP     0.254399   1.000000     0.100893   0.070193 -0.112135  0.164803   \n",
       "Cholesterol  -0.095282   0.100893     1.000000  -0.260974  0.235792  0.050148   \n",
       "FastingBS     0.198039   0.070193    -0.260974   1.000000 -0.131438  0.052698   \n",
       "MaxHR        -0.382045  -0.112135     0.235792  -0.131438  1.000000 -0.160691   \n",
       "Oldpeak       0.258612   0.164803     0.050148   0.052698 -0.160691  1.000000   \n",
       "HeartDisease  0.282039   0.107589    -0.232741   0.267291 -0.400421  0.403951   \n",
       "\n",
       "              HeartDisease  \n",
       "Age               0.282039  \n",
       "RestingBP         0.107589  \n",
       "Cholesterol      -0.232741  \n",
       "FastingBS         0.267291  \n",
       "MaxHR            -0.400421  \n",
       "Oldpeak           0.403951  \n",
       "HeartDisease      1.000000  "
      ]
     },
     "execution_count": 376,
     "metadata": {},
     "output_type": "execute_result"
    }
   ],
   "source": [
    "df.corr()"
   ]
  },
  {
   "cell_type": "markdown",
   "id": "d72da700",
   "metadata": {},
   "source": [
    "- RestingBP, Age: Drop, low correlation with HeartDisease and or/multicollinearity\n",
    "- Cholesterol, FastingBS: Also consider dropping\n",
    "- MaxHR, Oldpeak: Keep\n",
    "\n",
    "Kind of high correlation between Age and MaxHR, might cause multicollinearity. Only Keep MaxHR in model (higher corr with heartdisease)"
   ]
  },
  {
   "cell_type": "markdown",
   "id": "f2d53071",
   "metadata": {},
   "source": [
    "### Categorical Columns"
   ]
  },
  {
   "cell_type": "code",
   "execution_count": 377,
   "id": "2b6f2731",
   "metadata": {},
   "outputs": [
    {
     "data": {
      "text/html": [
       "<div>\n",
       "<style scoped>\n",
       "    .dataframe tbody tr th:only-of-type {\n",
       "        vertical-align: middle;\n",
       "    }\n",
       "\n",
       "    .dataframe tbody tr th {\n",
       "        vertical-align: top;\n",
       "    }\n",
       "\n",
       "    .dataframe thead th {\n",
       "        text-align: right;\n",
       "    }\n",
       "</style>\n",
       "<table border=\"1\" class=\"dataframe\">\n",
       "  <thead>\n",
       "    <tr style=\"text-align: right;\">\n",
       "      <th></th>\n",
       "      <th>Sex</th>\n",
       "      <th>ChestPainType</th>\n",
       "      <th>RestingECG</th>\n",
       "      <th>ExerciseAngina</th>\n",
       "      <th>ST_Slope</th>\n",
       "    </tr>\n",
       "  </thead>\n",
       "  <tbody>\n",
       "    <tr>\n",
       "      <th>count</th>\n",
       "      <td>918</td>\n",
       "      <td>918</td>\n",
       "      <td>918</td>\n",
       "      <td>918</td>\n",
       "      <td>918</td>\n",
       "    </tr>\n",
       "    <tr>\n",
       "      <th>unique</th>\n",
       "      <td>2</td>\n",
       "      <td>4</td>\n",
       "      <td>3</td>\n",
       "      <td>2</td>\n",
       "      <td>3</td>\n",
       "    </tr>\n",
       "    <tr>\n",
       "      <th>top</th>\n",
       "      <td>M</td>\n",
       "      <td>ASY</td>\n",
       "      <td>Normal</td>\n",
       "      <td>N</td>\n",
       "      <td>Flat</td>\n",
       "    </tr>\n",
       "    <tr>\n",
       "      <th>freq</th>\n",
       "      <td>725</td>\n",
       "      <td>496</td>\n",
       "      <td>552</td>\n",
       "      <td>547</td>\n",
       "      <td>460</td>\n",
       "    </tr>\n",
       "  </tbody>\n",
       "</table>\n",
       "</div>"
      ],
      "text/plain": [
       "        Sex ChestPainType RestingECG ExerciseAngina ST_Slope\n",
       "count   918           918        918            918      918\n",
       "unique    2             4          3              2        3\n",
       "top       M           ASY     Normal              N     Flat\n",
       "freq    725           496        552            547      460"
      ]
     },
     "execution_count": 377,
     "metadata": {},
     "output_type": "execute_result"
    }
   ],
   "source": [
    "df.describe(include = \"O\")"
   ]
  },
  {
   "cell_type": "code",
   "execution_count": 378,
   "id": "7c8d453b",
   "metadata": {},
   "outputs": [
    {
     "data": {
      "image/png": "[encoded data removed]",
      "text/plain": [
       "<Figure size 432x288 with 1 Axes>"
      ]
     },
     "metadata": {
      "needs_background": "light"
     },
     "output_type": "display_data"
    },
    {
     "data": {
      "image/png": "[encoded data removed]",
      "text/plain": [
       "<Figure size 432x288 with 1 Axes>"
      ]
     },
     "metadata": {
      "needs_background": "light"
     },
     "output_type": "display_data"
    },
    {
     "data": {
      "image/png": "[encoded data removed]",
      "text/plain": [
       "<Figure size 432x288 with 1 Axes>"
      ]
     },
     "metadata": {
      "needs_background": "light"
     },
     "output_type": "display_data"
    },
    {
     "data": {
      "image/png": "[encoded data removed]",
      "text/plain": [
       "<Figure size 432x288 with 1 Axes>"
      ]
     },
     "metadata": {
      "needs_background": "light"
     },
     "output_type": "display_data"
    },
    {
     "data": {
      "image/png": "[encoded data removed]",
      "text/plain": [
       "<Figure size 432x288 with 1 Axes>"
      ]
     },
     "metadata": {
      "needs_background": "light"
     },
     "output_type": "display_data"
    }
   ],
   "source": [
    "plt.figure()\n",
    "for col in df.describe(include = \"O\").columns:\n",
    "    sns.barplot(data = df, x = col, y = \"HeartDisease\")\n",
    "    plt.title(f\"Proportion of Pop with HeartDisease by {col}\")\n",
    "    plt.show()"
   ]
  },
  {
   "cell_type": "markdown",
   "id": "df0be076",
   "metadata": {},
   "source": [
    "- Sex: Keep, significant difference\n",
    "- ChestPainType, investigate further - Reasonable to group NAP and TA?\n",
    "- Resting EGC: Drop\n",
    "- ExerciseAngina: Keep\n",
    "- ST_Slope: Investigate further - Reasonable to group Flat and Down?"
   ]
  },
  {
   "cell_type": "code",
   "execution_count": 379,
   "id": "29b320fb",
   "metadata": {},
   "outputs": [
    {
     "name": "stdout",
     "output_type": "stream",
     "text": [
      "ChestPainType  Sex\n",
      "NAP            M      0.738916\n",
      "               F      0.261084\n",
      "TA             M      0.782609\n",
      "               F      0.217391\n",
      "Name: Sex, dtype: float64\n",
      "\n",
      "\n",
      "ChestPainType  RestingECG\n",
      "NAP            Normal        0.605911\n",
      "               LVH           0.231527\n",
      "               ST            0.162562\n",
      "TA             Normal        0.478261\n",
      "               LVH           0.347826\n",
      "               ST            0.173913\n",
      "Name: RestingECG, dtype: float64\n",
      "\n",
      "\n",
      "ChestPainType  ExerciseAngina\n",
      "NAP            N                 0.748768\n",
      "               Y                 0.251232\n",
      "TA             N                 0.869565\n",
      "               Y                 0.130435\n",
      "Name: ExerciseAngina, dtype: float64\n",
      "\n",
      "\n",
      "ChestPainType  ST_Slope\n",
      "NAP            Up          0.517241\n",
      "               Flat        0.433498\n",
      "               Down        0.049261\n",
      "TA             Flat        0.478261\n",
      "               Up          0.434783\n",
      "               Down        0.086957\n",
      "Name: ST_Slope, dtype: float64\n",
      "\n",
      "\n"
     ]
    }
   ],
   "source": [
    "for i in df.drop(\"ChestPainType\", axis = 1).describe(include = \"O\").columns:\n",
    "    print(df.groupby(\"ChestPainType\")[i].value_counts(normalize = True).loc[[\"NAP\", \"TA\"]])    \n",
    "    print('\\n')"
   ]
  },
  {
   "cell_type": "code",
   "execution_count": 380,
   "id": "e0527b07",
   "metadata": {},
   "outputs": [
    {
     "name": "stdout",
     "output_type": "stream",
     "text": [
      "Average Age:\n",
      "ChestPainType\n",
      "NAP    53.310345\n",
      "TA     54.826087\n",
      "Name: Age, dtype: float64\n",
      "\n",
      "\n",
      "Average RestingBP:\n",
      "ChestPainType\n",
      "NAP    130.960591\n",
      "TA     136.413043\n",
      "Name: RestingBP, dtype: float64\n",
      "\n",
      "\n",
      "Average Cholesterol:\n",
      "ChestPainType\n",
      "NAP    197.438424\n",
      "TA     207.065217\n",
      "Name: Cholesterol, dtype: float64\n",
      "\n",
      "\n",
      "Average FastingBS:\n",
      "ChestPainType\n",
      "NAP    0.201970\n",
      "TA     0.282609\n",
      "Name: FastingBS, dtype: float64\n",
      "\n",
      "\n",
      "Average MaxHR:\n",
      "ChestPainType\n",
      "NAP    143.236453\n",
      "TA     147.891304\n",
      "Name: MaxHR, dtype: float64\n",
      "\n",
      "\n",
      "Average Oldpeak:\n",
      "ChestPainType\n",
      "NAP    0.674877\n",
      "TA     1.036957\n",
      "Name: Oldpeak, dtype: float64\n",
      "\n",
      "\n",
      "Average HeartDisease:\n",
      "ChestPainType\n",
      "NAP    0.354680\n",
      "TA     0.434783\n",
      "Name: HeartDisease, dtype: float64\n",
      "\n",
      "\n"
     ]
    }
   ],
   "source": [
    "for i in df.describe().columns:\n",
    "    print(f\"Average {i}:\")\n",
    "    print(df.groupby(\"ChestPainType\")[i].mean().loc[[\"NAP\", \"TA\"]])    \n",
    "    print('\\n')"
   ]
  },
  {
   "cell_type": "markdown",
   "id": "dc881ea4",
   "metadata": {},
   "source": [
    "In the output above, you can see the relative frequency of the inner value, within each group of the outer values (i.e. ChestPainType). From the output above, we cannot distinguish any significant differences between group NAP and TA in terms of other variables. You could argue that it is a somewhat big differences in terms of cholesterol and OldPeak, but we can account for the differences by keeping them in the model. I therefore deem that it is reasonable to group them in the ChestPainType group, leaving us with the following unique values: [\"ATA\", \"NAP/TA\", \"ASY\"]"
   ]
  },
  {
   "cell_type": "code",
   "execution_count": 381,
   "id": "4464c151",
   "metadata": {},
   "outputs": [
    {
     "name": "stdout",
     "output_type": "stream",
     "text": [
      "ST_Slope  Sex\n",
      "Flat      M      0.836957\n",
      "          F      0.163043\n",
      "Down      M      0.888889\n",
      "          F      0.111111\n",
      "Name: Sex, dtype: float64\n",
      "\n",
      "\n",
      "ST_Slope  ChestPainType\n",
      "Flat      ASY              0.691304\n",
      "          NAP              0.191304\n",
      "          ATA              0.069565\n",
      "          TA               0.047826\n",
      "Down      ASY              0.730159\n",
      "          NAP              0.158730\n",
      "          TA               0.063492\n",
      "          ATA              0.047619\n",
      "Name: ChestPainType, dtype: float64\n",
      "\n",
      "\n",
      "ST_Slope  RestingECG\n",
      "Flat      Normal        0.578261\n",
      "          LVH           0.210870\n",
      "          ST            0.210870\n",
      "Down      Normal        0.492063\n",
      "          LVH           0.269841\n",
      "          ST            0.238095\n",
      "Name: RestingECG, dtype: float64\n",
      "\n",
      "\n",
      "ST_Slope  ExerciseAngina\n",
      "Flat      Y                 0.591304\n",
      "          N                 0.408696\n",
      "Down      Y                 0.650794\n",
      "          N                 0.349206\n",
      "Name: ExerciseAngina, dtype: float64\n",
      "\n",
      "\n"
     ]
    }
   ],
   "source": [
    "for i in df.drop(\"ST_Slope\", axis = 1).describe(include = \"O\").columns:\n",
    "    print(df.groupby(\"ST_Slope\")[i].value_counts(normalize = True).loc[[\"Flat\", \"Down\"]])\n",
    "    print('\\n')"
   ]
  },
  {
   "cell_type": "code",
   "execution_count": 382,
   "id": "cfed5a07",
   "metadata": {},
   "outputs": [
    {
     "name": "stdout",
     "output_type": "stream",
     "text": [
      "Average Age:\n",
      "ST_Slope\n",
      "Flat    55.256522\n",
      "Down    58.317460\n",
      "Name: Age, dtype: float64\n",
      "\n",
      "\n",
      "Average RestingBP:\n",
      "ST_Slope\n",
      "Flat    134.228261\n",
      "Down    131.857143\n",
      "Name: RestingBP, dtype: float64\n",
      "\n",
      "\n",
      "Average Cholesterol:\n",
      "ST_Slope\n",
      "Flat    193.241304\n",
      "Down    165.222222\n",
      "Name: Cholesterol, dtype: float64\n",
      "\n",
      "\n",
      "Average FastingBS:\n",
      "ST_Slope\n",
      "Flat    0.278261\n",
      "Down    0.396825\n",
      "Name: FastingBS, dtype: float64\n",
      "\n",
      "\n",
      "Average MaxHR:\n",
      "ST_Slope\n",
      "Flat    128.110870\n",
      "Down    129.936508\n",
      "Name: MaxHR, dtype: float64\n",
      "\n",
      "\n",
      "Average Oldpeak:\n",
      "ST_Slope\n",
      "Flat    1.188696\n",
      "Down    2.152381\n",
      "Name: Oldpeak, dtype: float64\n",
      "\n",
      "\n",
      "Average HeartDisease:\n",
      "ST_Slope\n",
      "Flat    0.828261\n",
      "Down    0.777778\n",
      "Name: HeartDisease, dtype: float64\n",
      "\n",
      "\n"
     ]
    }
   ],
   "source": [
    "for i in df.describe().columns:\n",
    "    print(f\"Average {i}:\")\n",
    "    print(df.groupby(\"ST_Slope\")[i].mean().loc[[\"Flat\", \"Down\"]])\n",
    "    print('\\n')"
   ]
  },
  {
   "cell_type": "markdown",
   "id": "21e7f2e5",
   "metadata": {},
   "source": [
    "In the output above, you can see the relative frequency of the inner value, within each group of the subset of the outer values (i.e. ST_Slope). We have used a subset of the variable here, since we are interested in investigating whether or not it is reasonable to group these variables (we want to do this based on the result from the barplots). From the output above, we cannot distinguish any signficant differences between group Flat and Down in terms of other variables. You could argue that it is a somewhat big differences in terms of cholesterol and OldPeak, but we can account for the differences by keeping them in the model. I therefore deem that it is reasonable to group them in the ST_Slope group, leaving us with the following unique values: [\"Up\", \"Not Up\"]"
   ]
  },
  {
   "cell_type": "code",
   "execution_count": 383,
   "id": "d1c0b83e",
   "metadata": {},
   "outputs": [],
   "source": [
    "df[\"grouped_ChestPainType\"] = df[\"ChestPainType\"].apply(lambda x: \"TA/NAP\" if x in [\"NAP\", \"TA\"] else x)"
   ]
  },
  {
   "cell_type": "code",
   "execution_count": 384,
   "id": "898a822b",
   "metadata": {},
   "outputs": [],
   "source": [
    "df[\"grouped_ST_Slope\"] = df[\"ST_Slope\"].apply(lambda x: \"Not_Up\" if x in [\"Flat\", \"Down\"] else x)"
   ]
  },
  {
   "cell_type": "code",
   "execution_count": 385,
   "id": "6e14e9d5",
   "metadata": {},
   "outputs": [
    {
     "data": {
      "text/html": [
       "<div>\n",
       "<style scoped>\n",
       "    .dataframe tbody tr th:only-of-type {\n",
       "        vertical-align: middle;\n",
       "    }\n",
       "\n",
       "    .dataframe tbody tr th {\n",
       "        vertical-align: top;\n",
       "    }\n",
       "\n",
       "    .dataframe thead th {\n",
       "        text-align: right;\n",
       "    }\n",
       "</style>\n",
       "<table border=\"1\" class=\"dataframe\">\n",
       "  <thead>\n",
       "    <tr style=\"text-align: right;\">\n",
       "      <th></th>\n",
       "      <th>Age</th>\n",
       "      <th>Sex</th>\n",
       "      <th>ChestPainType</th>\n",
       "      <th>RestingBP</th>\n",
       "      <th>Cholesterol</th>\n",
       "      <th>FastingBS</th>\n",
       "      <th>RestingECG</th>\n",
       "      <th>MaxHR</th>\n",
       "      <th>ExerciseAngina</th>\n",
       "      <th>Oldpeak</th>\n",
       "      <th>ST_Slope</th>\n",
       "      <th>HeartDisease</th>\n",
       "      <th>grouped_ChestPainType</th>\n",
       "      <th>grouped_ST_Slope</th>\n",
       "    </tr>\n",
       "  </thead>\n",
       "  <tbody>\n",
       "    <tr>\n",
       "      <th>0</th>\n",
       "      <td>40</td>\n",
       "      <td>M</td>\n",
       "      <td>ATA</td>\n",
       "      <td>140</td>\n",
       "      <td>289</td>\n",
       "      <td>0</td>\n",
       "      <td>Normal</td>\n",
       "      <td>172</td>\n",
       "      <td>N</td>\n",
       "      <td>0.0</td>\n",
       "      <td>Up</td>\n",
       "      <td>0</td>\n",
       "      <td>ATA</td>\n",
       "      <td>Up</td>\n",
       "    </tr>\n",
       "    <tr>\n",
       "      <th>1</th>\n",
       "      <td>49</td>\n",
       "      <td>F</td>\n",
       "      <td>NAP</td>\n",
       "      <td>160</td>\n",
       "      <td>180</td>\n",
       "      <td>0</td>\n",
       "      <td>Normal</td>\n",
       "      <td>156</td>\n",
       "      <td>N</td>\n",
       "      <td>1.0</td>\n",
       "      <td>Flat</td>\n",
       "      <td>1</td>\n",
       "      <td>TA/NAP</td>\n",
       "      <td>Not_Up</td>\n",
       "    </tr>\n",
       "    <tr>\n",
       "      <th>2</th>\n",
       "      <td>37</td>\n",
       "      <td>M</td>\n",
       "      <td>ATA</td>\n",
       "      <td>130</td>\n",
       "      <td>283</td>\n",
       "      <td>0</td>\n",
       "      <td>ST</td>\n",
       "      <td>98</td>\n",
       "      <td>N</td>\n",
       "      <td>0.0</td>\n",
       "      <td>Up</td>\n",
       "      <td>0</td>\n",
       "      <td>ATA</td>\n",
       "      <td>Up</td>\n",
       "    </tr>\n",
       "    <tr>\n",
       "      <th>3</th>\n",
       "      <td>48</td>\n",
       "      <td>F</td>\n",
       "      <td>ASY</td>\n",
       "      <td>138</td>\n",
       "      <td>214</td>\n",
       "      <td>0</td>\n",
       "      <td>Normal</td>\n",
       "      <td>108</td>\n",
       "      <td>Y</td>\n",
       "      <td>1.5</td>\n",
       "      <td>Flat</td>\n",
       "      <td>1</td>\n",
       "      <td>ASY</td>\n",
       "      <td>Not_Up</td>\n",
       "    </tr>\n",
       "    <tr>\n",
       "      <th>4</th>\n",
       "      <td>54</td>\n",
       "      <td>M</td>\n",
       "      <td>NAP</td>\n",
       "      <td>150</td>\n",
       "      <td>195</td>\n",
       "      <td>0</td>\n",
       "      <td>Normal</td>\n",
       "      <td>122</td>\n",
       "      <td>N</td>\n",
       "      <td>0.0</td>\n",
       "      <td>Up</td>\n",
       "      <td>0</td>\n",
       "      <td>TA/NAP</td>\n",
       "      <td>Up</td>\n",
       "    </tr>\n",
       "    <tr>\n",
       "      <th>...</th>\n",
       "      <td>...</td>\n",
       "      <td>...</td>\n",
       "      <td>...</td>\n",
       "      <td>...</td>\n",
       "      <td>...</td>\n",
       "      <td>...</td>\n",
       "      <td>...</td>\n",
       "      <td>...</td>\n",
       "      <td>...</td>\n",
       "      <td>...</td>\n",
       "      <td>...</td>\n",
       "      <td>...</td>\n",
       "      <td>...</td>\n",
       "      <td>...</td>\n",
       "    </tr>\n",
       "    <tr>\n",
       "      <th>913</th>\n",
       "      <td>45</td>\n",
       "      <td>M</td>\n",
       "      <td>TA</td>\n",
       "      <td>110</td>\n",
       "      <td>264</td>\n",
       "      <td>0</td>\n",
       "      <td>Normal</td>\n",
       "      <td>132</td>\n",
       "      <td>N</td>\n",
       "      <td>1.2</td>\n",
       "      <td>Flat</td>\n",
       "      <td>1</td>\n",
       "      <td>TA/NAP</td>\n",
       "      <td>Not_Up</td>\n",
       "    </tr>\n",
       "    <tr>\n",
       "      <th>914</th>\n",
       "      <td>68</td>\n",
       "      <td>M</td>\n",
       "      <td>ASY</td>\n",
       "      <td>144</td>\n",
       "      <td>193</td>\n",
       "      <td>1</td>\n",
       "      <td>Normal</td>\n",
       "      <td>141</td>\n",
       "      <td>N</td>\n",
       "      <td>3.4</td>\n",
       "      <td>Flat</td>\n",
       "      <td>1</td>\n",
       "      <td>ASY</td>\n",
       "      <td>Not_Up</td>\n",
       "    </tr>\n",
       "    <tr>\n",
       "      <th>915</th>\n",
       "      <td>57</td>\n",
       "      <td>M</td>\n",
       "      <td>ASY</td>\n",
       "      <td>130</td>\n",
       "      <td>131</td>\n",
       "      <td>0</td>\n",
       "      <td>Normal</td>\n",
       "      <td>115</td>\n",
       "      <td>Y</td>\n",
       "      <td>1.2</td>\n",
       "      <td>Flat</td>\n",
       "      <td>1</td>\n",
       "      <td>ASY</td>\n",
       "      <td>Not_Up</td>\n",
       "    </tr>\n",
       "    <tr>\n",
       "      <th>916</th>\n",
       "      <td>57</td>\n",
       "      <td>F</td>\n",
       "      <td>ATA</td>\n",
       "      <td>130</td>\n",
       "      <td>236</td>\n",
       "      <td>0</td>\n",
       "      <td>LVH</td>\n",
       "      <td>174</td>\n",
       "      <td>N</td>\n",
       "      <td>0.0</td>\n",
       "      <td>Flat</td>\n",
       "      <td>1</td>\n",
       "      <td>ATA</td>\n",
       "      <td>Not_Up</td>\n",
       "    </tr>\n",
       "    <tr>\n",
       "      <th>917</th>\n",
       "      <td>38</td>\n",
       "      <td>M</td>\n",
       "      <td>NAP</td>\n",
       "      <td>138</td>\n",
       "      <td>175</td>\n",
       "      <td>0</td>\n",
       "      <td>Normal</td>\n",
       "      <td>173</td>\n",
       "      <td>N</td>\n",
       "      <td>0.0</td>\n",
       "      <td>Up</td>\n",
       "      <td>0</td>\n",
       "      <td>TA/NAP</td>\n",
       "      <td>Up</td>\n",
       "    </tr>\n",
       "  </tbody>\n",
       "</table>\n",
       "<p>918 rows × 14 columns</p>\n",
       "</div>"
      ],
      "text/plain": [
       "     Age Sex ChestPainType  RestingBP  Cholesterol  FastingBS RestingECG  \\\n",
       "0     40   M           ATA        140          289          0     Normal   \n",
       "1     49   F           NAP        160          180          0     Normal   \n",
       "2     37   M           ATA        130          283          0         ST   \n",
       "3     48   F           ASY        138          214          0     Normal   \n",
       "4     54   M           NAP        150          195          0     Normal   \n",
       "..   ...  ..           ...        ...          ...        ...        ...   \n",
       "913   45   M            TA        110          264          0     Normal   \n",
       "914   68   M           ASY        144          193          1     Normal   \n",
       "915   57   M           ASY        130          131          0     Normal   \n",
       "916   57   F           ATA        130          236          0        LVH   \n",
       "917   38   M           NAP        138          175          0     Normal   \n",
       "\n",
       "     MaxHR ExerciseAngina  Oldpeak ST_Slope  HeartDisease  \\\n",
       "0      172              N      0.0       Up             0   \n",
       "1      156              N      1.0     Flat             1   \n",
       "2       98              N      0.0       Up             0   \n",
       "3      108              Y      1.5     Flat             1   \n",
       "4      122              N      0.0       Up             0   \n",
       "..     ...            ...      ...      ...           ...   \n",
       "913    132              N      1.2     Flat             1   \n",
       "914    141              N      3.4     Flat             1   \n",
       "915    115              Y      1.2     Flat             1   \n",
       "916    174              N      0.0     Flat             1   \n",
       "917    173              N      0.0       Up             0   \n",
       "\n",
       "    grouped_ChestPainType grouped_ST_Slope  \n",
       "0                     ATA               Up  \n",
       "1                  TA/NAP           Not_Up  \n",
       "2                     ATA               Up  \n",
       "3                     ASY           Not_Up  \n",
       "4                  TA/NAP               Up  \n",
       "..                    ...              ...  \n",
       "913                TA/NAP           Not_Up  \n",
       "914                   ASY           Not_Up  \n",
       "915                   ASY           Not_Up  \n",
       "916                   ATA           Not_Up  \n",
       "917                TA/NAP               Up  \n",
       "\n",
       "[918 rows x 14 columns]"
      ]
     },
     "execution_count": 385,
     "metadata": {},
     "output_type": "execute_result"
    }
   ],
   "source": [
    "df"
   ]
  },
  {
   "cell_type": "code",
   "execution_count": 491,
   "id": "5da37318",
   "metadata": {},
   "outputs": [
    {
     "data": {
      "image/png": "[encoded data removed]",
      "text/plain": [
       "<Figure size 432x288 with 1 Axes>"
      ]
     },
     "metadata": {
      "needs_background": "light"
     },
     "output_type": "display_data"
    }
   ],
   "source": [
    "plt.figure()\n",
    "sns.barplot(data = df, x = \"grouped_ST_Slope\", y = \"HeartDisease\")\n",
    "plt.title(\"Proportion of Pop with HeartDisease by Grouped ST_Slope\")\n",
    "plt.show()"
   ]
  },
  {
   "cell_type": "markdown",
   "id": "80ea0ed7",
   "metadata": {},
   "source": [
    "### Summary:\n",
    "Variables of interest:\n",
    "- Numerical:\n",
    "    - MaxHR, Oldpeak, Cholesterol: Keep\n",
    "    - FastingBS: Consider Keeping\n",
    "- Categorical:\n",
    "    - Sex, ExerciseAngina: Keep, significant difference\n",
    "    - ChestPainType: Keep with group of NAP and TA\n",
    "    - ST_Slope: Keep with  group of Flat and Down (= not_up)\n"
   ]
  },
  {
   "cell_type": "markdown",
   "id": "9eab4b41",
   "metadata": {},
   "source": [
    "# Testing Models\n",
    "\n",
    "In this section I am going to try out a bunch of different models with 2 different set of features, first a subset of features based on the analysis above, and secondly all features together. Using these features I am going to try out different models to see which one yields the highest recall score. After choosing a model (or more if they are very similar), we will proceed with hyperparameter tuning."
   ]
  },
  {
   "cell_type": "markdown",
   "id": "67c98061",
   "metadata": {},
   "source": [
    "## Baseline"
   ]
  },
  {
   "cell_type": "code",
   "execution_count": 472,
   "id": "b5d1f79e",
   "metadata": {},
   "outputs": [],
   "source": [
    "baseline = df[\"HeartDisease\"].value_counts(normalize = True).iloc[0]"
   ]
  },
  {
   "cell_type": "code",
   "execution_count": 475,
   "id": "615d56e9",
   "metadata": {},
   "outputs": [
    {
     "name": "stdout",
     "output_type": "stream",
     "text": [
      "Baseline to beat is about 55.34, since about 55% of the population in the data set have a heart disease\n"
     ]
    }
   ],
   "source": [
    "print(f\"Baseline to beat is about {round(baseline,4) * 100}, since about 55% of the population in the data set have a heart disease\")\n"
   ]
  },
  {
   "cell_type": "markdown",
   "id": "1a15880a",
   "metadata": {},
   "source": [
    "## Test Models with Subset of Variables\n",
    "\n",
    "Trying different models with a subset of variables, maximizing for Recall"
   ]
  },
  {
   "cell_type": "markdown",
   "id": "f6999175",
   "metadata": {},
   "source": [
    "### X and y"
   ]
  },
  {
   "cell_type": "code",
   "execution_count": 388,
   "id": "d4a97dfc",
   "metadata": {},
   "outputs": [
    {
     "data": {
      "text/plain": [
       "Index(['Age', 'Sex', 'ChestPainType', 'RestingBP', 'Cholesterol', 'FastingBS',\n",
       "       'RestingECG', 'MaxHR', 'ExerciseAngina', 'Oldpeak', 'ST_Slope',\n",
       "       'HeartDisease', 'grouped_ChestPainType', 'grouped_ST_Slope'],\n",
       "      dtype='object')"
      ]
     },
     "execution_count": 388,
     "metadata": {},
     "output_type": "execute_result"
    }
   ],
   "source": [
    "df.columns"
   ]
  },
  {
   "cell_type": "code",
   "execution_count": 389,
   "id": "a826b391",
   "metadata": {},
   "outputs": [],
   "source": [
    "X = df.drop(columns = [\"HeartDisease\", \"Age\", \"RestingBP\", \"RestingECG\", \"ChestPainType\", \"ST_Slope\"])\n",
    "y = df[\"HeartDisease\"]"
   ]
  },
  {
   "cell_type": "markdown",
   "id": "c6245742",
   "metadata": {},
   "source": [
    "### Train/Test-Split"
   ]
  },
  {
   "cell_type": "code",
   "execution_count": 390,
   "id": "eda6a11b",
   "metadata": {},
   "outputs": [],
   "source": [
    "X_train, X_test, y_train, y_test = train_test_split(X, y, test_size = 0.2, random_state = 69)"
   ]
  },
  {
   "cell_type": "markdown",
   "id": "807d4106",
   "metadata": {},
   "source": [
    "### Create Custom Preprocessor\n",
    "\n",
    "try to make it into numpy array"
   ]
  },
  {
   "cell_type": "code",
   "execution_count": 300,
   "id": "f979e189",
   "metadata": {},
   "outputs": [],
   "source": [
    "# Create my own preprocessing functions, to group values inside column\n",
    "\n",
    "# The ColumnsSelector class inherits from the sklearn.base classes \n",
    "# (BaseEstimator, TransformerMixin). This makes it compatible with \n",
    "# scikit-learn’s Pipelines\n",
    "class GroupColumns(BaseEstimator, TransformerMixin):\n",
    "    # initializer \n",
    "    def __init__(self, columns, values, group_names):\n",
    "        # save the inputed variables internally in the class\n",
    "        self.columns = columns\n",
    "        self.values = values\n",
    "        self.group_names = group_names\n",
    "    \n",
    "    # fits the model, not neccessary when we do not want to calculate anything based on the X input (e.g. mean)\n",
    "    def fit(self, X, y = None):\n",
    "        return self\n",
    "    \n",
    "    #actual transformation to be done, in this case group values in columns and call new values group_name\n",
    "    def transform(self, X, y = None):\n",
    "        # return the dataframe with the specified features\n",
    "        for col in self.columns:\n",
    "            X[col] = X[col].apply(lambda x: self.group_names[col] if x in self.values[col] else x)\n",
    "        return np.array[X]"
   ]
  },
  {
   "cell_type": "code",
   "execution_count": 151,
   "id": "ffa6e488",
   "metadata": {},
   "outputs": [],
   "source": [
    "class MyStandardScaler(BaseEstimator, TransformerMixin): \n",
    "    def __init__(self):\n",
    "        return None\n",
    "    \n",
    "    def fit(self, X, y = None):\n",
    "        print(type(X))\n",
    "        # the type of X might be a DataFrame or a NumPy array\n",
    "        # depending on the previous transformer object that \n",
    "        # you use in the pipeline\n",
    "        self.means = np.mean(X, axis=0)    # calculate the mean\n",
    "        self.stds = np.std(X, axis=0)      # calculate the \n",
    "                                           # standard deviation\n",
    "        return self\n",
    "    def transform(self, X, y = None):\n",
    "        return (X - self.means) / self.stds"
   ]
  },
  {
   "cell_type": "code",
   "execution_count": 305,
   "id": "fcb6165f",
   "metadata": {},
   "outputs": [],
   "source": [
    "# preprocessing for numerical columns\n",
    "num_cols = X.select_dtypes(\"number\").columns\n",
    "\n",
    "num_trans = make_pipeline(SimpleImputer(strategy = \"median\"),\n",
    "                          GroupColumns(columns = [\"ChestPainType\", \"ST_Slop\"], values = {\"ChestPainType\" : [\"NAP\", \"TA\"], \"ST_Slope\" : [\"Flat\", \"Down\"]}, group_names = {\"ChestPainType\" : \"NAP/TA\", \"ST_Slope\" : \"Not_Up\"}),\n",
    "                          RobustScaler())\n",
    "\n",
    "#preprocessing of categorical columns\n",
    "cat_cols = X.describe(include = \"O\").columns\n",
    "\n",
    "cat_trans = make_pipeline(SimpleImputer(strategy = \"constant\", fill_value = \"missing\"),\n",
    "                          OneHotEncoder(drop = \"first\"))\n",
    "\n",
    "preprocessor = make_column_transformer((num_trans, num_cols), (cat_trans, cat_cols))"
   ]
  },
  {
   "cell_type": "code",
   "execution_count": 306,
   "id": "963c2551",
   "metadata": {},
   "outputs": [
    {
     "ename": "AttributeError",
     "evalue": "'Pipeline' object has no attribute 'best_score_'",
     "output_type": "error",
     "traceback": [
      "\u001b[0;31m---------------------------------------------------------------------------\u001b[0m",
      "\u001b[0;31mAttributeError\u001b[0m                            Traceback (most recent call last)",
      "\u001b[0;32m/var/folders/f2/gy3wvk2x3t36m50bbjptxdb80000gn/T/ipykernel_8510/1160413689.py\u001b[0m in \u001b[0;36m<module>\u001b[0;34m\u001b[0m\n\u001b[1;32m      1\u001b[0m \u001b[0mpipe\u001b[0m \u001b[0;34m=\u001b[0m \u001b[0mmake_pipeline\u001b[0m\u001b[0;34m(\u001b[0m\u001b[0mpreprocessor\u001b[0m\u001b[0;34m,\u001b[0m \u001b[0mSVC\u001b[0m\u001b[0;34m(\u001b[0m\u001b[0;34m)\u001b[0m\u001b[0;34m)\u001b[0m\u001b[0;34m\u001b[0m\u001b[0;34m\u001b[0m\u001b[0m\n\u001b[1;32m      2\u001b[0m \u001b[0;34m\u001b[0m\u001b[0m\n\u001b[0;32m----> 3\u001b[0;31m \u001b[0mpipe\u001b[0m\u001b[0;34m.\u001b[0m\u001b[0mbest_score_\u001b[0m\u001b[0;34m\u001b[0m\u001b[0;34m\u001b[0m\u001b[0m\n\u001b[0m",
      "\u001b[0;31mAttributeError\u001b[0m: 'Pipeline' object has no attribute 'best_score_'"
     ]
    }
   ],
   "source": [
    "pipe = make_pipeline(preprocessor, SVC())\n",
    "\n",
    "pipe.best_score_"
   ]
  },
  {
   "cell_type": "markdown",
   "id": "7a80ed8e",
   "metadata": {},
   "source": [
    "### Preprocessor"
   ]
  },
  {
   "cell_type": "code",
   "execution_count": 391,
   "id": "332af972",
   "metadata": {},
   "outputs": [
    {
     "data": {
      "text/plain": [
       "Index(['Cholesterol', 'FastingBS', 'MaxHR', 'Oldpeak'], dtype='object')"
      ]
     },
     "execution_count": 391,
     "metadata": {},
     "output_type": "execute_result"
    }
   ],
   "source": [
    "X_train.describe().columns"
   ]
  },
  {
   "cell_type": "code",
   "execution_count": 392,
   "id": "aa6b1ab5",
   "metadata": {},
   "outputs": [],
   "source": [
    "# preprocessing for numerical columns\n",
    "num_cols = X.select_dtypes(\"number\").columns\n",
    "\n",
    "num_trans = make_pipeline(SimpleImputer(strategy = \"median\"), RobustScaler())\n",
    "\n",
    "#preprocessing of categorical columns\n",
    "cat_cols = X.describe(include = \"O\").columns\n",
    "\n",
    "cat_trans = make_pipeline(SimpleImputer(strategy = \"constant\", fill_value = \"missing\"),\n",
    "                          OneHotEncoder(drop = \"first\"))\n",
    "\n",
    "preprocessor = make_column_transformer((num_trans, num_cols), (cat_trans, cat_cols))"
   ]
  },
  {
   "cell_type": "markdown",
   "id": "498107ff",
   "metadata": {},
   "source": [
    "### Evaluate Models"
   ]
  },
  {
   "cell_type": "code",
   "execution_count": 393,
   "id": "932e8e04",
   "metadata": {},
   "outputs": [
    {
     "name": "stdout",
     "output_type": "stream",
     "text": [
      "RandomForestClassifier() scored: 0.873231707317073\n",
      "\n",
      "SVC() scored: 0.9154878048780489\n",
      "\n",
      "LogisticRegression() scored: 0.8955487804878048\n",
      "\n",
      "DecisionTreeClassifier() scored: 0.8186585365853658\n",
      "\n",
      "KNeighborsClassifier() scored: 0.8881707317073172\n",
      "\n",
      "LinearDiscriminantAnalysis() scored: 0.890548780487805\n",
      "\n",
      "GaussianNB() scored: 0.8534146341463416\n",
      "\n"
     ]
    }
   ],
   "source": [
    "classifiers = [RandomForestClassifier(), \n",
    "                SVC(), \n",
    "                LogisticRegression(),\n",
    "                DecisionTreeClassifier(),\n",
    "                KNeighborsClassifier(),\n",
    "                LinearDiscriminantAnalysis(),\n",
    "                GaussianNB()]\n",
    "\n",
    "for clf in classifiers:\n",
    "    pipe = make_pipeline(preprocessor, clf)\n",
    "    grid = GridSearchCV(estimator = pipe, \n",
    "                       cv = 10,\n",
    "                       scoring = \"recall\",\n",
    "                       param_grid = {},\n",
    "                       n_jobs = -1)\n",
    "    grid.fit(X_train, y_train)\n",
    "    score = grid.best_score_\n",
    "    print(f\"{clf} scored: {score}\\n\")\n",
    "    "
   ]
  },
  {
   "cell_type": "markdown",
   "id": "3c815fe7",
   "metadata": {},
   "source": [
    "## Test Models with All Variables\n",
    "\n",
    "Trying different models with all, maximizing for Recall"
   ]
  },
  {
   "cell_type": "code",
   "execution_count": 394,
   "id": "3db9f826",
   "metadata": {},
   "outputs": [
    {
     "data": {
      "text/plain": [
       "Index(['Age', 'Sex', 'ChestPainType', 'RestingBP', 'Cholesterol', 'FastingBS',\n",
       "       'RestingECG', 'MaxHR', 'ExerciseAngina', 'Oldpeak', 'ST_Slope',\n",
       "       'HeartDisease', 'grouped_ChestPainType', 'grouped_ST_Slope'],\n",
       "      dtype='object')"
      ]
     },
     "execution_count": 394,
     "metadata": {},
     "output_type": "execute_result"
    }
   ],
   "source": [
    "df.columns"
   ]
  },
  {
   "cell_type": "markdown",
   "id": "2ee3e09c",
   "metadata": {},
   "source": [
    "### X & y"
   ]
  },
  {
   "cell_type": "code",
   "execution_count": 395,
   "id": "3deb3994",
   "metadata": {},
   "outputs": [],
   "source": [
    "X = df.drop(columns = ['HeartDisease', 'grouped_ChestPainType', 'grouped_ST_Slope'])\n",
    "y = df[\"HeartDisease\"]"
   ]
  },
  {
   "cell_type": "markdown",
   "id": "37697346",
   "metadata": {},
   "source": [
    "### Train/Test-Split"
   ]
  },
  {
   "cell_type": "code",
   "execution_count": 396,
   "id": "2f768652",
   "metadata": {},
   "outputs": [],
   "source": [
    "X_train, X_test, y_train, y_test = train_test_split(X, y, test_size = 0.2, random_state = 69)"
   ]
  },
  {
   "cell_type": "markdown",
   "id": "d88e9ec6",
   "metadata": {},
   "source": [
    "### Preprocessor"
   ]
  },
  {
   "cell_type": "code",
   "execution_count": 397,
   "id": "a13597b7",
   "metadata": {},
   "outputs": [],
   "source": [
    "# preprocessing for numerical columns\n",
    "num_cols = X.select_dtypes(\"number\").columns\n",
    "\n",
    "num_trans = make_pipeline(SimpleImputer(strategy = \"median\"), RobustScaler())\n",
    "\n",
    "#preprocessing of categorical columns\n",
    "cat_cols = X.describe(include = \"O\").columns\n",
    "\n",
    "cat_trans = make_pipeline(SimpleImputer(strategy = \"constant\", fill_value = \"missing\"),\n",
    "                          OneHotEncoder(drop = \"first\"))\n",
    "\n",
    "preprocessor = make_column_transformer((num_trans, num_cols), (cat_trans, cat_cols))"
   ]
  },
  {
   "cell_type": "markdown",
   "id": "b94724a3",
   "metadata": {},
   "source": [
    "### Evaluate Models"
   ]
  },
  {
   "cell_type": "code",
   "execution_count": 398,
   "id": "dac87cb4",
   "metadata": {},
   "outputs": [
    {
     "name": "stdout",
     "output_type": "stream",
     "text": [
      "RandomForestClassifier() scored: 0.8857317073170732\n",
      "\n",
      "SVC() scored: 0.915609756097561\n",
      "\n",
      "LogisticRegression() scored: 0.8979878048780489\n",
      "\n",
      "DecisionTreeClassifier() scored: 0.788658536585366\n",
      "\n",
      "KNeighborsClassifier() scored: 0.8956707317073169\n",
      "\n",
      "LinearDiscriminantAnalysis() scored: 0.890548780487805\n",
      "\n",
      "GaussianNB() scored: 0.8731707317073172\n",
      "\n"
     ]
    }
   ],
   "source": [
    "classifiers = [RandomForestClassifier(), \n",
    "                SVC(), \n",
    "                LogisticRegression(),\n",
    "                DecisionTreeClassifier(),\n",
    "                KNeighborsClassifier(),\n",
    "                LinearDiscriminantAnalysis(),\n",
    "                GaussianNB()]\n",
    "\n",
    "for clf in classifiers:\n",
    "    pipe = make_pipeline(preprocessor, clf)\n",
    "    grid = GridSearchCV(estimator = pipe, \n",
    "                       cv = 10,\n",
    "                       scoring = \"recall\",\n",
    "                       param_grid = {},\n",
    "                       n_jobs = -1)\n",
    "    grid.fit(X_train, y_train)\n",
    "    score = grid.best_score_\n",
    "    print(f\"{clf} scored: {score}\\n\")\n",
    "    "
   ]
  },
  {
   "cell_type": "markdown",
   "id": "809e458b",
   "metadata": {},
   "source": [
    "## Summary Comparison:\n",
    "The recall score does not differ very much between the model with reduced features and all features (not more than 2 % units) and I therefore choose to go with the reduced model. Furthermore, the SVC yielded the highest score butI've chosen to include close contenders (RandomForest, LogisticRegression and KNeighbors) aswell to see if hyperparameter tuning makes a difference."
   ]
  },
  {
   "cell_type": "markdown",
   "id": "c1b20280",
   "metadata": {},
   "source": [
    "## Hyperparameter Tuning"
   ]
  },
  {
   "cell_type": "code",
   "execution_count": 478,
   "id": "55cc3e49",
   "metadata": {},
   "outputs": [],
   "source": [
    "X = df.drop(columns = [\"HeartDisease\", \"Age\", \"RestingBP\", \"RestingECG\", \"ChestPainType\", \"ST_Slope\"])\n",
    "y = df[\"HeartDisease\"]\n",
    "\n",
    "X_train, X_test, y_train, y_test = train_test_split(X, y, test_size = 0.2)"
   ]
  },
  {
   "cell_type": "code",
   "execution_count": 400,
   "id": "f26ca8cd",
   "metadata": {},
   "outputs": [
    {
     "data": {
      "text/plain": [
       "Index(['Sex', 'Cholesterol', 'FastingBS', 'MaxHR', 'ExerciseAngina', 'Oldpeak',\n",
       "       'grouped_ChestPainType', 'grouped_ST_Slope'],\n",
       "      dtype='object')"
      ]
     },
     "execution_count": 400,
     "metadata": {},
     "output_type": "execute_result"
    }
   ],
   "source": [
    "X_train.columns"
   ]
  },
  {
   "cell_type": "code",
   "execution_count": 404,
   "id": "c9d4250b",
   "metadata": {},
   "outputs": [],
   "source": [
    "# preprocessing for numerical columns\n",
    "num_cols = X.select_dtypes(\"number\").columns\n",
    "\n",
    "num_trans = make_pipeline(SimpleImputer(strategy = \"median\"), RobustScaler())\n",
    "\n",
    "#preprocessing of categorical columns\n",
    "cat_cols = X.describe(include = \"O\").columns\n",
    "\n",
    "cat_trans = make_pipeline(SimpleImputer(strategy = \"constant\", fill_value = \"missing\"),\n",
    "                          OneHotEncoder(drop = \"first\"))\n",
    "\n",
    "preprocessor = make_column_transformer((num_trans, num_cols), (cat_trans, cat_cols))"
   ]
  },
  {
   "cell_type": "markdown",
   "id": "a9fb3bea",
   "metadata": {},
   "source": [
    "### `SVC()`"
   ]
  },
  {
   "cell_type": "code",
   "execution_count": 405,
   "id": "18b08644",
   "metadata": {},
   "outputs": [
    {
     "name": "stdout",
     "output_type": "stream",
     "text": [
      "Best Score: 0.9388414634146341\n",
      "Best Params: {'svc__C': 0.1, 'svc__gamma': 1}\n"
     ]
    }
   ],
   "source": [
    "# defining parameter range\n",
    "param_grid_svc = {'svc__C': [0.1, 1, 10, 100], \n",
    "              'svc__gamma': [1, 0.1, 0.01]} \n",
    "pipe_svc = make_pipeline(preprocessor, SVC())\n",
    "\n",
    "grid_svc = GridSearchCV(estimator = pipe_svc, \n",
    "                    param_grid = param_grid_svc, \n",
    "                    n_jobs = -1, \n",
    "                    cv = 10,\n",
    "                    scoring = \"recall\"\n",
    "                    )\n",
    "  \n",
    "# fitting the model for grid search\n",
    "grid_svc.fit(X_train, y_train)\n",
    "\n",
    "print(\"Best Score:\", grid_svc.best_score_)\n",
    "print(\"Best Params:\", grid_svc.best_params_)"
   ]
  },
  {
   "cell_type": "code",
   "execution_count": 443,
   "id": "d064bdd3",
   "metadata": {
    "scrolled": false
   },
   "outputs": [
    {
     "data": {
      "image/png": "[encoded data removed]",
      "text/plain": [
       "<Figure size 432x288 with 2 Axes>"
      ]
     },
     "metadata": {
      "needs_background": "light"
     },
     "output_type": "display_data"
    },
    {
     "name": "stdout",
     "output_type": "stream",
     "text": [
      "Recall: 0.9437652811735942\n",
      "Precision: 0.8109243697478992\n",
      "Accuracy: 0.8460490463215259\n",
      "Average: 0.8669128990810063\n",
      "F1_Score: 0.8723163841807909\n"
     ]
    }
   ],
   "source": [
    "cm = confusion_matrix(y_train, grid_svc.predict(X_train))\n",
    "disp = ConfusionMatrixDisplay(confusion_matrix=cm,display_labels=grid_svc.classes_)\n",
    "\n",
    "disp.plot()\n",
    "plt.title(\"Confusion Matrix SVC on Training Data\\n\")\n",
    "plt.show()\n",
    "print(f\"Recall: {recall_score(y_train, grid_svc.predict(X_train))}\")\n",
    "print(f\"Precision: {precision_score(y_train, grid_svc.predict(X_train))}\")\n",
    "print(f\"Accuracy: {accuracy_score(y_train, grid_svc.predict(X_train))}\")\n",
    "print(f\"Average: {(recall_score(y_train, grid_svc.predict(X_train)) + precision_score(y_train, grid_svc.predict(X_train)) + accuracy_score(y_train, grid_svc.predict(X_train))) / 3}\")\n",
    "print(f\"F1_Score: {f1_score(y_train, grid_svc.predict(X_train))}\")\n",
    "\n"
   ]
  },
  {
   "cell_type": "markdown",
   "id": "73ec601f",
   "metadata": {},
   "source": [
    "### `RandomForestClassifier()`"
   ]
  },
  {
   "cell_type": "code",
   "execution_count": 407,
   "id": "4db430a9",
   "metadata": {},
   "outputs": [
    {
     "name": "stdout",
     "output_type": "stream",
     "text": [
      "Best Score: 0.9144512195121951\n",
      "Best Params: {'randomforestclassifier__max_depth': 25, 'randomforestclassifier__min_samples_leaf': 8, 'randomforestclassifier__min_samples_split': 20, 'randomforestclassifier__n_estimators': 100}\n"
     ]
    }
   ],
   "source": [
    "# defining parameter range\n",
    "param_grid_rf = {\"randomforestclassifier__max_depth\" : [None, 5, 10, 25, 50],\n",
    "                \"randomforestclassifier__min_samples_leaf\" : [1, 2, 4, 8],\n",
    "                \"randomforestclassifier__n_estimators\" : [50, 100, 200],\n",
    "                'randomforestclassifier__min_samples_split': [2, 5, 10, 20]}\n",
    "\n",
    "pipe_rf = make_pipeline(preprocessor, RandomForestClassifier())\n",
    "\n",
    "grid_rf = GridSearchCV(estimator = pipe_rf, \n",
    "                    param_grid = param_grid_rf, \n",
    "                    n_jobs = -1, \n",
    "                    cv = 10,\n",
    "                    scoring = \"recall\"\n",
    "                    )\n",
    "  \n",
    "# fitting the model for grid search\n",
    "grid_rf.fit(X_train, y_train)\n",
    "\n",
    "print(\"Best Score:\", grid_rf.best_score_)\n",
    "print(\"Best Params:\", grid_rf.best_params_)"
   ]
  },
  {
   "cell_type": "code",
   "execution_count": 442,
   "id": "db51eb09",
   "metadata": {},
   "outputs": [
    {
     "data": {
      "image/png": "[encoded data removed]",
      "text/plain": [
       "<Figure size 432x288 with 2 Axes>"
      ]
     },
     "metadata": {
      "needs_background": "light"
     },
     "output_type": "display_data"
    },
    {
     "name": "stdout",
     "output_type": "stream",
     "text": [
      "Recall: 0.9119804400977995\n",
      "Precision: 0.8923444976076556\n",
      "Accuracy: 0.8896457765667575\n",
      "Average: 0.8979902380907375\n",
      "F1_Score: 0.9020556227327691\n"
     ]
    }
   ],
   "source": [
    "cm = metrics.confusion_matrix(y_train, grid_rf.predict(X_train))\n",
    "disp = ConfusionMatrixDisplay(confusion_matrix=cm,display_labels=grid_rf.classes_)\n",
    "\n",
    "disp.plot()\n",
    "plt.title(\"Confusion Matrix RandomForest on Training Data\\n\")\n",
    "plt.show()\n",
    "print(f\"Recall: {recall_score(y_train, grid_rf.predict(X_train))}\")\n",
    "print(f\"Precision: {precision_score(y_train, grid_rf.predict(X_train))}\")\n",
    "print(f\"Accuracy: {accuracy_score(y_train, grid_rf.predict(X_train))}\")\n",
    "print(f\"Average: {(recall_score(y_train, grid_rf.predict(X_train)) + precision_score(y_train, grid_rf.predict(X_train)) + accuracy_score(y_train, grid_rf.predict(X_train))) / 3}\")\n",
    "print(f\"F1_Score: {f1_score(y_train, grid_rf.predict(X_train))}\")\n",
    "\n"
   ]
  },
  {
   "cell_type": "markdown",
   "id": "aec507d7",
   "metadata": {},
   "source": [
    "### `KNeighborsClassifier()`"
   ]
  },
  {
   "cell_type": "code",
   "execution_count": 410,
   "id": "8732e331",
   "metadata": {},
   "outputs": [
    {
     "name": "stdout",
     "output_type": "stream",
     "text": [
      "Best Score: 0.8973170731707316\n",
      "Best Params: {'kneighborsclassifier__leaf_size': 1, 'kneighborsclassifier__n_neighbors': 25, 'kneighborsclassifier__p': 1}\n"
     ]
    }
   ],
   "source": [
    "# defining parameter range\n",
    "param_grid_knn = {\"kneighborsclassifier__n_neighbors\" : [1, 3, 5, 10, 25, 50],\n",
    "                \"kneighborsclassifier__leaf_size\" : [1, 5, 10, 30, 50],\n",
    "                \"kneighborsclassifier__p\" : [1,2]}\n",
    "\n",
    "pipe_knn = make_pipeline(preprocessor, KNeighborsClassifier())\n",
    "\n",
    "grid_knn = GridSearchCV(estimator = pipe_knn, \n",
    "                    param_grid = param_grid_knn, \n",
    "                    n_jobs = -1, \n",
    "                    cv = 10,\n",
    "                    scoring = \"recall\"\n",
    "                    )\n",
    "  \n",
    "# fitting the model for grid search\n",
    "grid_knn.fit(X_train, y_train)\n",
    "\n",
    "print(\"Best Score:\", grid_knn.best_score_)\n",
    "print(\"Best Params:\", grid_knn.best_params_)"
   ]
  },
  {
   "cell_type": "code",
   "execution_count": 441,
   "id": "d167d2e3",
   "metadata": {},
   "outputs": [
    {
     "data": {
      "image/png": "[encoded data removed]",
      "text/plain": [
       "<Figure size 432x288 with 2 Axes>"
      ]
     },
     "metadata": {
      "needs_background": "light"
     },
     "output_type": "display_data"
    },
    {
     "name": "stdout",
     "output_type": "stream",
     "text": [
      "Recall: 0.8997555012224939\n",
      "Precision: 0.8782816229116945\n",
      "Accuracy: 0.8746594005449592\n",
      "Average: 0.8842321748930493\n",
      "F1_Score: 0.888888888888889\n"
     ]
    }
   ],
   "source": [
    "cm = metrics.confusion_matrix(y_train, grid_knn.predict(X_train))\n",
    "disp = ConfusionMatrixDisplay(confusion_matrix=cm,display_labels=grid_knn.classes_)\n",
    "\n",
    "disp.plot()\n",
    "plt.title(\"Confusion Matrix KNeighbor on Training Data\\n\")\n",
    "plt.show()\n",
    "print(f\"Recall: {recall_score(y_train, grid_knn.predict(X_train))}\")\n",
    "print(f\"Precision: {precision_score(y_train, grid_knn.predict(X_train))}\")\n",
    "print(f\"Accuracy: {accuracy_score(y_train, grid_knn.predict(X_train))}\")\n",
    "print(f\"Average: {(recall_score(y_train, grid_knn.predict(X_train)) + precision_score(y_train, grid_knn.predict(X_train)) + accuracy_score(y_train, grid_knn.predict(X_train))) / 3}\")\n",
    "print(f\"F1_Score: {f1_score(y_train, grid_knn.predict(X_train))}\")\n",
    "\n"
   ]
  },
  {
   "cell_type": "code",
   "execution_count": 424,
   "id": "242c80ea",
   "metadata": {},
   "outputs": [
    {
     "name": "stdout",
     "output_type": "stream",
     "text": [
      "Best Score: 0.9779268292682927\n",
      "Best Params: {'logisticregression__C': 0.001}\n"
     ]
    }
   ],
   "source": [
    "# defining parameter range\n",
    "param_grid_logreg = {\"logisticregression__C\" : [0.001, 0.01, 0.1, 1, 5, 10, 50]}\n",
    "\n",
    "pipe_logreg = make_pipeline(preprocessor, LogisticRegression())\n",
    "\n",
    "grid_logreg = GridSearchCV(estimator = pipe_logreg, \n",
    "                    param_grid = param_grid_logreg, \n",
    "                    n_jobs = -1, \n",
    "                    cv = 10,\n",
    "                    scoring = \"recall\"\n",
    "                    )\n",
    "  \n",
    "# fitting the model for grid search\n",
    "grid_logreg.fit(X_train, y_train)\n",
    "\n",
    "print(\"Best Score:\", grid_logreg.best_score_)\n",
    "print(\"Best Params:\", grid_logreg.best_params_)"
   ]
  },
  {
   "cell_type": "markdown",
   "id": "cb6fc58a",
   "metadata": {},
   "source": [
    "### `LogisticRegression()`"
   ]
  },
  {
   "cell_type": "code",
   "execution_count": 440,
   "id": "4334375f",
   "metadata": {},
   "outputs": [
    {
     "data": {
      "image/png": "[encoded data removed]",
      "text/plain": [
       "<Figure size 432x288 with 2 Axes>"
      ]
     },
     "metadata": {
      "needs_background": "light"
     },
     "output_type": "display_data"
    },
    {
     "name": "stdout",
     "output_type": "stream",
     "text": [
      "Recall: 0.9755501222493888\n",
      "Precision: 0.6477272727272727\n",
      "Accuracy: 0.6907356948228883\n",
      "Average: 0.7713376965998499\n",
      "F1_Score: 0.7785365853658537\n"
     ]
    }
   ],
   "source": [
    "cm = metrics.confusion_matrix(y_train, grid_logreg.predict(X_train))\n",
    "disp = ConfusionMatrixDisplay(confusion_matrix=cm,display_labels=grid_knn.classes_)\n",
    "\n",
    "disp.plot()\n",
    "plt.title(\"Confusion Matrix LogReg on Training Data\\n\")\n",
    "plt.show()\n",
    "print(f\"Recall: {recall_score(y_train, grid_logreg.predict(X_train))}\")\n",
    "print(f\"Precision: {precision_score(y_train, grid_logreg.predict(X_train))}\")\n",
    "print(f\"Accuracy: {accuracy_score(y_train, grid_logreg.predict(X_train))}\")\n",
    "print(f\"Average: {(recall_score(y_train, grid_logreg.predict(X_train)) + precision_score(y_train, grid_logreg.predict(X_train)) + accuracy_score(y_train, grid_logreg.predict(X_train))) / 3}\")\n",
    "print(f\"F1_Score: {f1_score(y_train, grid_logreg.predict(X_train))}\")\n",
    "\n",
    "\n"
   ]
  },
  {
   "cell_type": "markdown",
   "id": "d3028acc",
   "metadata": {},
   "source": [
    "## Decision\n",
    "Based on the data from the different models when hyperparameter tuning them, we can conclude the the logistic regression yields the highest recall score, however, looking at the confusion matrix and the other scores, we can see that it is bad in terms of precision. Even though we optimized the model for recall, since we want to minimize the number of FN, that does not mean that precision is not important. A FP, i.e. telling a patient that they have a heart disease even though they do not, can result in high costs for the hospital if they continue with treatment for the patient. Also, some treatment might me harmful for a patient that is in fact healthy. Therefore, I've concluded to go ahead with the SVC model that yields a high recall (although not AS high as logreg) but also yields a relatively high precision score."
   ]
  },
  {
   "cell_type": "markdown",
   "id": "49563fa3",
   "metadata": {},
   "source": [
    "## Refitting Model on All training Data\n",
    "\n",
    "- SVC()\n",
    "- {'svc__C': 0.1, 'svc__gamma': 1}"
   ]
  },
  {
   "cell_type": "code",
   "execution_count": 444,
   "id": "af00b2ba",
   "metadata": {},
   "outputs": [],
   "source": [
    "pipe_final = make_pipeline(preprocessor, SVC(C = 0.1, gamma = 1))"
   ]
  },
  {
   "cell_type": "code",
   "execution_count": 445,
   "id": "89d9891a",
   "metadata": {},
   "outputs": [
    {
     "data": {
      "text/html": [
       "<style>#sk-container-id-9 {color: black;background-color: white;}#sk-container-id-9 pre{padding: 0;}#sk-container-id-9 div.sk-toggleable {background-color: white;}#sk-container-id-9 label.sk-toggleable__label {cursor: pointer;display: block;width: 100%;margin-bottom: 0;padding: 0.3em;box-sizing: border-box;text-align: center;}#sk-container-id-9 label.sk-toggleable__label-arrow:before {content: \"▸\";float: left;margin-right: 0.25em;color: #696969;}#sk-container-id-9 label.sk-toggleable__label-arrow:hover:before {color: black;}#sk-container-id-9 div.sk-estimator:hover label.sk-toggleable__label-arrow:before {color: black;}#sk-container-id-9 div.sk-toggleable__content {max-height: 0;max-width: 0;overflow: hidden;text-align: left;background-color: #f0f8ff;}#sk-container-id-9 div.sk-toggleable__content pre {margin: 0.2em;color: black;border-radius: 0.25em;background-color: #f0f8ff;}#sk-container-id-9 input.sk-toggleable__control:checked~div.sk-toggleable__content {max-height: 200px;max-width: 100%;overflow: auto;}#sk-container-id-9 input.sk-toggleable__control:checked~label.sk-toggleable__label-arrow:before {content: \"▾\";}#sk-container-id-9 div.sk-estimator input.sk-toggleable__control:checked~label.sk-toggleable__label {background-color: #d4ebff;}#sk-container-id-9 div.sk-label input.sk-toggleable__control:checked~label.sk-toggleable__label {background-color: #d4ebff;}#sk-container-id-9 input.sk-hidden--visually {border: 0;clip: rect(1px 1px 1px 1px);clip: rect(1px, 1px, 1px, 1px);height: 1px;margin: -1px;overflow: hidden;padding: 0;position: absolute;width: 1px;}#sk-container-id-9 div.sk-estimator {font-family: monospace;background-color: #f0f8ff;border: 1px dotted black;border-radius: 0.25em;box-sizing: border-box;margin-bottom: 0.5em;}#sk-container-id-9 div.sk-estimator:hover {background-color: #d4ebff;}#sk-container-id-9 div.sk-parallel-item::after {content: \"\";width: 100%;border-bottom: 1px solid gray;flex-grow: 1;}#sk-container-id-9 div.sk-label:hover label.sk-toggleable__label {background-color: #d4ebff;}#sk-container-id-9 div.sk-serial::before {content: \"\";position: absolute;border-left: 1px solid gray;box-sizing: border-box;top: 0;bottom: 0;left: 50%;z-index: 0;}#sk-container-id-9 div.sk-serial {display: flex;flex-direction: column;align-items: center;background-color: white;padding-right: 0.2em;padding-left: 0.2em;position: relative;}#sk-container-id-9 div.sk-item {position: relative;z-index: 1;}#sk-container-id-9 div.sk-parallel {display: flex;align-items: stretch;justify-content: center;background-color: white;position: relative;}#sk-container-id-9 div.sk-item::before, #sk-container-id-9 div.sk-parallel-item::before {content: \"\";position: absolute;border-left: 1px solid gray;box-sizing: border-box;top: 0;bottom: 0;left: 50%;z-index: -1;}#sk-container-id-9 div.sk-parallel-item {display: flex;flex-direction: column;z-index: 1;position: relative;background-color: white;}#sk-container-id-9 div.sk-parallel-item:first-child::after {align-self: flex-end;width: 50%;}#sk-container-id-9 div.sk-parallel-item:last-child::after {align-self: flex-start;width: 50%;}#sk-container-id-9 div.sk-parallel-item:only-child::after {width: 0;}#sk-container-id-9 div.sk-dashed-wrapped {border: 1px dashed gray;margin: 0 0.4em 0.5em 0.4em;box-sizing: border-box;padding-bottom: 0.4em;background-color: white;}#sk-container-id-9 div.sk-label label {font-family: monospace;font-weight: bold;display: inline-block;line-height: 1.2em;}#sk-container-id-9 div.sk-label-container {text-align: center;}#sk-container-id-9 div.sk-container {/* jupyter's `normalize.less` sets `[hidden] { display: none; }` but bootstrap.min.css set `[hidden] { display: none !important; }` so we also need the `!important` here to be able to override the default hidden behavior on the sphinx rendered scikit-learn.org. See: https://github.com/scikit-learn/scikit-learn/issues/21755 */display: inline-block !important;position: relative;}#sk-container-id-9 div.sk-text-repr-fallback {display: none;}</style><div id=\"sk-container-id-9\" class=\"sk-top-container\"><div class=\"sk-text-repr-fallback\"><pre>Pipeline(steps=[(&#x27;columntransformer&#x27;,\n",
       "                 ColumnTransformer(transformers=[(&#x27;pipeline-1&#x27;,\n",
       "                                                  Pipeline(steps=[(&#x27;simpleimputer&#x27;,\n",
       "                                                                   SimpleImputer(strategy=&#x27;median&#x27;)),\n",
       "                                                                  (&#x27;robustscaler&#x27;,\n",
       "                                                                   RobustScaler())]),\n",
       "                                                  Index([&#x27;Cholesterol&#x27;, &#x27;FastingBS&#x27;, &#x27;MaxHR&#x27;, &#x27;Oldpeak&#x27;], dtype=&#x27;object&#x27;)),\n",
       "                                                 (&#x27;pipeline-2&#x27;,\n",
       "                                                  Pipeline(steps=[(&#x27;simpleimputer&#x27;,\n",
       "                                                                   SimpleImputer(fill_value=&#x27;missing&#x27;,\n",
       "                                                                                 strategy=&#x27;constant&#x27;)),\n",
       "                                                                  (&#x27;onehotencoder&#x27;,\n",
       "                                                                   OneHotEncoder(drop=&#x27;first&#x27;))]),\n",
       "                                                  Index([&#x27;Sex&#x27;, &#x27;ExerciseAngina&#x27;, &#x27;grouped_ChestPainType&#x27;, &#x27;grouped_ST_Slope&#x27;], dtype=&#x27;object&#x27;))])),\n",
       "                (&#x27;svc&#x27;, SVC(C=0.1, gamma=1))])</pre><b>In a Jupyter environment, please rerun this cell to show the HTML representation or trust the notebook. <br />On GitHub, the HTML representation is unable to render, please try loading this page with nbviewer.org.</b></div><div class=\"sk-container\" hidden><div class=\"sk-item sk-dashed-wrapped\"><div class=\"sk-label-container\"><div class=\"sk-label sk-toggleable\"><input class=\"sk-toggleable__control sk-hidden--visually\" id=\"sk-estimator-id-24\" type=\"checkbox\" ><label for=\"sk-estimator-id-24\" class=\"sk-toggleable__label sk-toggleable__label-arrow\">Pipeline</label><div class=\"sk-toggleable__content\"><pre>Pipeline(steps=[(&#x27;columntransformer&#x27;,\n",
       "                 ColumnTransformer(transformers=[(&#x27;pipeline-1&#x27;,\n",
       "                                                  Pipeline(steps=[(&#x27;simpleimputer&#x27;,\n",
       "                                                                   SimpleImputer(strategy=&#x27;median&#x27;)),\n",
       "                                                                  (&#x27;robustscaler&#x27;,\n",
       "                                                                   RobustScaler())]),\n",
       "                                                  Index([&#x27;Cholesterol&#x27;, &#x27;FastingBS&#x27;, &#x27;MaxHR&#x27;, &#x27;Oldpeak&#x27;], dtype=&#x27;object&#x27;)),\n",
       "                                                 (&#x27;pipeline-2&#x27;,\n",
       "                                                  Pipeline(steps=[(&#x27;simpleimputer&#x27;,\n",
       "                                                                   SimpleImputer(fill_value=&#x27;missing&#x27;,\n",
       "                                                                                 strategy=&#x27;constant&#x27;)),\n",
       "                                                                  (&#x27;onehotencoder&#x27;,\n",
       "                                                                   OneHotEncoder(drop=&#x27;first&#x27;))]),\n",
       "                                                  Index([&#x27;Sex&#x27;, &#x27;ExerciseAngina&#x27;, &#x27;grouped_ChestPainType&#x27;, &#x27;grouped_ST_Slope&#x27;], dtype=&#x27;object&#x27;))])),\n",
       "                (&#x27;svc&#x27;, SVC(C=0.1, gamma=1))])</pre></div></div></div><div class=\"sk-serial\"><div class=\"sk-item sk-dashed-wrapped\"><div class=\"sk-label-container\"><div class=\"sk-label sk-toggleable\"><input class=\"sk-toggleable__control sk-hidden--visually\" id=\"sk-estimator-id-25\" type=\"checkbox\" ><label for=\"sk-estimator-id-25\" class=\"sk-toggleable__label sk-toggleable__label-arrow\">columntransformer: ColumnTransformer</label><div class=\"sk-toggleable__content\"><pre>ColumnTransformer(transformers=[(&#x27;pipeline-1&#x27;,\n",
       "                                 Pipeline(steps=[(&#x27;simpleimputer&#x27;,\n",
       "                                                  SimpleImputer(strategy=&#x27;median&#x27;)),\n",
       "                                                 (&#x27;robustscaler&#x27;,\n",
       "                                                  RobustScaler())]),\n",
       "                                 Index([&#x27;Cholesterol&#x27;, &#x27;FastingBS&#x27;, &#x27;MaxHR&#x27;, &#x27;Oldpeak&#x27;], dtype=&#x27;object&#x27;)),\n",
       "                                (&#x27;pipeline-2&#x27;,\n",
       "                                 Pipeline(steps=[(&#x27;simpleimputer&#x27;,\n",
       "                                                  SimpleImputer(fill_value=&#x27;missing&#x27;,\n",
       "                                                                strategy=&#x27;constant&#x27;)),\n",
       "                                                 (&#x27;onehotencoder&#x27;,\n",
       "                                                  OneHotEncoder(drop=&#x27;first&#x27;))]),\n",
       "                                 Index([&#x27;Sex&#x27;, &#x27;ExerciseAngina&#x27;, &#x27;grouped_ChestPainType&#x27;, &#x27;grouped_ST_Slope&#x27;], dtype=&#x27;object&#x27;))])</pre></div></div></div><div class=\"sk-parallel\"><div class=\"sk-parallel-item\"><div class=\"sk-item\"><div class=\"sk-label-container\"><div class=\"sk-label sk-toggleable\"><input class=\"sk-toggleable__control sk-hidden--visually\" id=\"sk-estimator-id-26\" type=\"checkbox\" ><label for=\"sk-estimator-id-26\" class=\"sk-toggleable__label sk-toggleable__label-arrow\">pipeline-1</label><div class=\"sk-toggleable__content\"><pre>Index([&#x27;Cholesterol&#x27;, &#x27;FastingBS&#x27;, &#x27;MaxHR&#x27;, &#x27;Oldpeak&#x27;], dtype=&#x27;object&#x27;)</pre></div></div></div><div class=\"sk-serial\"><div class=\"sk-item\"><div class=\"sk-serial\"><div class=\"sk-item\"><div class=\"sk-estimator sk-toggleable\"><input class=\"sk-toggleable__control sk-hidden--visually\" id=\"sk-estimator-id-27\" type=\"checkbox\" ><label for=\"sk-estimator-id-27\" class=\"sk-toggleable__label sk-toggleable__label-arrow\">SimpleImputer</label><div class=\"sk-toggleable__content\"><pre>SimpleImputer(strategy=&#x27;median&#x27;)</pre></div></div></div><div class=\"sk-item\"><div class=\"sk-estimator sk-toggleable\"><input class=\"sk-toggleable__control sk-hidden--visually\" id=\"sk-estimator-id-28\" type=\"checkbox\" ><label for=\"sk-estimator-id-28\" class=\"sk-toggleable__label sk-toggleable__label-arrow\">RobustScaler</label><div class=\"sk-toggleable__content\"><pre>RobustScaler()</pre></div></div></div></div></div></div></div></div><div class=\"sk-parallel-item\"><div class=\"sk-item\"><div class=\"sk-label-container\"><div class=\"sk-label sk-toggleable\"><input class=\"sk-toggleable__control sk-hidden--visually\" id=\"sk-estimator-id-29\" type=\"checkbox\" ><label for=\"sk-estimator-id-29\" class=\"sk-toggleable__label sk-toggleable__label-arrow\">pipeline-2</label><div class=\"sk-toggleable__content\"><pre>Index([&#x27;Sex&#x27;, &#x27;ExerciseAngina&#x27;, &#x27;grouped_ChestPainType&#x27;, &#x27;grouped_ST_Slope&#x27;], dtype=&#x27;object&#x27;)</pre></div></div></div><div class=\"sk-serial\"><div class=\"sk-item\"><div class=\"sk-serial\"><div class=\"sk-item\"><div class=\"sk-estimator sk-toggleable\"><input class=\"sk-toggleable__control sk-hidden--visually\" id=\"sk-estimator-id-30\" type=\"checkbox\" ><label for=\"sk-estimator-id-30\" class=\"sk-toggleable__label sk-toggleable__label-arrow\">SimpleImputer</label><div class=\"sk-toggleable__content\"><pre>SimpleImputer(fill_value=&#x27;missing&#x27;, strategy=&#x27;constant&#x27;)</pre></div></div></div><div class=\"sk-item\"><div class=\"sk-estimator sk-toggleable\"><input class=\"sk-toggleable__control sk-hidden--visually\" id=\"sk-estimator-id-31\" type=\"checkbox\" ><label for=\"sk-estimator-id-31\" class=\"sk-toggleable__label sk-toggleable__label-arrow\">OneHotEncoder</label><div class=\"sk-toggleable__content\"><pre>OneHotEncoder(drop=&#x27;first&#x27;)</pre></div></div></div></div></div></div></div></div></div></div><div class=\"sk-item\"><div class=\"sk-estimator sk-toggleable\"><input class=\"sk-toggleable__control sk-hidden--visually\" id=\"sk-estimator-id-32\" type=\"checkbox\" ><label for=\"sk-estimator-id-32\" class=\"sk-toggleable__label sk-toggleable__label-arrow\">SVC</label><div class=\"sk-toggleable__content\"><pre>SVC(C=0.1, gamma=1)</pre></div></div></div></div></div></div></div>"
      ],
      "text/plain": [
       "Pipeline(steps=[('columntransformer',\n",
       "                 ColumnTransformer(transformers=[('pipeline-1',\n",
       "                                                  Pipeline(steps=[('simpleimputer',\n",
       "                                                                   SimpleImputer(strategy='median')),\n",
       "                                                                  ('robustscaler',\n",
       "                                                                   RobustScaler())]),\n",
       "                                                  Index(['Cholesterol', 'FastingBS', 'MaxHR', 'Oldpeak'], dtype='object')),\n",
       "                                                 ('pipeline-2',\n",
       "                                                  Pipeline(steps=[('simpleimputer',\n",
       "                                                                   SimpleImputer(fill_value='missing',\n",
       "                                                                                 strategy='constant')),\n",
       "                                                                  ('onehotencoder',\n",
       "                                                                   OneHotEncoder(drop='first'))]),\n",
       "                                                  Index(['Sex', 'ExerciseAngina', 'grouped_ChestPainType', 'grouped_ST_Slope'], dtype='object'))])),\n",
       "                ('svc', SVC(C=0.1, gamma=1))])"
      ]
     },
     "execution_count": 445,
     "metadata": {},
     "output_type": "execute_result"
    }
   ],
   "source": [
    "pipe_final.fit(X_train, y_train)"
   ]
  },
  {
   "cell_type": "markdown",
   "id": "3d718d47",
   "metadata": {},
   "source": [
    "## Evaluation on Test Data"
   ]
  },
  {
   "cell_type": "code",
   "execution_count": 479,
   "id": "0a9d0222",
   "metadata": {},
   "outputs": [],
   "source": [
    "y_test_pred = pipe_final.predict(X_test)"
   ]
  },
  {
   "cell_type": "code",
   "execution_count": 480,
   "id": "c97b671b",
   "metadata": {},
   "outputs": [
    {
     "name": "stdout",
     "output_type": "stream",
     "text": [
      "Recall Score on Test Data: 0.96\n",
      "Precision Score on Test Data: 0.7741935483870968\n",
      "Accuracy Score on Test Data: 0.8260869565217391\n",
      "Average Score on Test Data: 0.8534268349696119\n",
      "F1_Score Score on Test Data: 0.8571428571428571\n"
     ]
    }
   ],
   "source": [
    "print(f\"Recall Score on Test Data: {recall_score(y_test, y_test_pred)}\")\n",
    "print(f\"Precision Score on Test Data: {precision_score(y_test, y_test_pred)}\")\n",
    "print(f\"Accuracy Score on Test Data: {accuracy_score(y_test, y_test_pred)}\")\n",
    "print(f\"Average Score on Test Data: {(recall_score(y_test, y_test_pred) + precision_score(y_test, y_test_pred) + accuracy_score(y_test, y_test_pred)) / 3}\")\n",
    "print(f\"F1_Score Score on Test Data: {f1_score(y_test, y_test_pred)}\")\n"
   ]
  },
  {
   "cell_type": "code",
   "execution_count": 481,
   "id": "4d724f2f",
   "metadata": {},
   "outputs": [
    {
     "data": {
      "image/png": "[encoded data removed]",
      "text/plain": [
       "<Figure size 432x288 with 2 Axes>"
      ]
     },
     "metadata": {
      "needs_background": "light"
     },
     "output_type": "display_data"
    }
   ],
   "source": [
    "cm = metrics.confusion_matrix(y_test, y_test_pred)\n",
    "disp = ConfusionMatrixDisplay(confusion_matrix=cm,display_labels=pipe_final.classes_)\n",
    "\n",
    "disp.plot()\n",
    "plt.title(\"Confusion Matrix SVC on Test Data\")\n",
    "plt.show()"
   ]
  },
  {
   "cell_type": "markdown",
   "id": "8e29837e",
   "metadata": {},
   "source": [
    "## Refit Model on All Data"
   ]
  },
  {
   "cell_type": "code",
   "execution_count": 482,
   "id": "567456f1",
   "metadata": {},
   "outputs": [
    {
     "data": {
      "text/html": [
       "<div>\n",
       "<style scoped>\n",
       "    .dataframe tbody tr th:only-of-type {\n",
       "        vertical-align: middle;\n",
       "    }\n",
       "\n",
       "    .dataframe tbody tr th {\n",
       "        vertical-align: top;\n",
       "    }\n",
       "\n",
       "    .dataframe thead th {\n",
       "        text-align: right;\n",
       "    }\n",
       "</style>\n",
       "<table border=\"1\" class=\"dataframe\">\n",
       "  <thead>\n",
       "    <tr style=\"text-align: right;\">\n",
       "      <th></th>\n",
       "      <th>Sex</th>\n",
       "      <th>Cholesterol</th>\n",
       "      <th>FastingBS</th>\n",
       "      <th>MaxHR</th>\n",
       "      <th>ExerciseAngina</th>\n",
       "      <th>Oldpeak</th>\n",
       "      <th>grouped_ChestPainType</th>\n",
       "      <th>grouped_ST_Slope</th>\n",
       "    </tr>\n",
       "  </thead>\n",
       "  <tbody>\n",
       "    <tr>\n",
       "      <th>0</th>\n",
       "      <td>M</td>\n",
       "      <td>289</td>\n",
       "      <td>0</td>\n",
       "      <td>172</td>\n",
       "      <td>N</td>\n",
       "      <td>0.0</td>\n",
       "      <td>ATA</td>\n",
       "      <td>Up</td>\n",
       "    </tr>\n",
       "    <tr>\n",
       "      <th>1</th>\n",
       "      <td>F</td>\n",
       "      <td>180</td>\n",
       "      <td>0</td>\n",
       "      <td>156</td>\n",
       "      <td>N</td>\n",
       "      <td>1.0</td>\n",
       "      <td>TA/NAP</td>\n",
       "      <td>Not_Up</td>\n",
       "    </tr>\n",
       "    <tr>\n",
       "      <th>2</th>\n",
       "      <td>M</td>\n",
       "      <td>283</td>\n",
       "      <td>0</td>\n",
       "      <td>98</td>\n",
       "      <td>N</td>\n",
       "      <td>0.0</td>\n",
       "      <td>ATA</td>\n",
       "      <td>Up</td>\n",
       "    </tr>\n",
       "    <tr>\n",
       "      <th>3</th>\n",
       "      <td>F</td>\n",
       "      <td>214</td>\n",
       "      <td>0</td>\n",
       "      <td>108</td>\n",
       "      <td>Y</td>\n",
       "      <td>1.5</td>\n",
       "      <td>ASY</td>\n",
       "      <td>Not_Up</td>\n",
       "    </tr>\n",
       "    <tr>\n",
       "      <th>4</th>\n",
       "      <td>M</td>\n",
       "      <td>195</td>\n",
       "      <td>0</td>\n",
       "      <td>122</td>\n",
       "      <td>N</td>\n",
       "      <td>0.0</td>\n",
       "      <td>TA/NAP</td>\n",
       "      <td>Up</td>\n",
       "    </tr>\n",
       "    <tr>\n",
       "      <th>...</th>\n",
       "      <td>...</td>\n",
       "      <td>...</td>\n",
       "      <td>...</td>\n",
       "      <td>...</td>\n",
       "      <td>...</td>\n",
       "      <td>...</td>\n",
       "      <td>...</td>\n",
       "      <td>...</td>\n",
       "    </tr>\n",
       "    <tr>\n",
       "      <th>913</th>\n",
       "      <td>M</td>\n",
       "      <td>264</td>\n",
       "      <td>0</td>\n",
       "      <td>132</td>\n",
       "      <td>N</td>\n",
       "      <td>1.2</td>\n",
       "      <td>TA/NAP</td>\n",
       "      <td>Not_Up</td>\n",
       "    </tr>\n",
       "    <tr>\n",
       "      <th>914</th>\n",
       "      <td>M</td>\n",
       "      <td>193</td>\n",
       "      <td>1</td>\n",
       "      <td>141</td>\n",
       "      <td>N</td>\n",
       "      <td>3.4</td>\n",
       "      <td>ASY</td>\n",
       "      <td>Not_Up</td>\n",
       "    </tr>\n",
       "    <tr>\n",
       "      <th>915</th>\n",
       "      <td>M</td>\n",
       "      <td>131</td>\n",
       "      <td>0</td>\n",
       "      <td>115</td>\n",
       "      <td>Y</td>\n",
       "      <td>1.2</td>\n",
       "      <td>ASY</td>\n",
       "      <td>Not_Up</td>\n",
       "    </tr>\n",
       "    <tr>\n",
       "      <th>916</th>\n",
       "      <td>F</td>\n",
       "      <td>236</td>\n",
       "      <td>0</td>\n",
       "      <td>174</td>\n",
       "      <td>N</td>\n",
       "      <td>0.0</td>\n",
       "      <td>ATA</td>\n",
       "      <td>Not_Up</td>\n",
       "    </tr>\n",
       "    <tr>\n",
       "      <th>917</th>\n",
       "      <td>M</td>\n",
       "      <td>175</td>\n",
       "      <td>0</td>\n",
       "      <td>173</td>\n",
       "      <td>N</td>\n",
       "      <td>0.0</td>\n",
       "      <td>TA/NAP</td>\n",
       "      <td>Up</td>\n",
       "    </tr>\n",
       "  </tbody>\n",
       "</table>\n",
       "<p>918 rows × 8 columns</p>\n",
       "</div>"
      ],
      "text/plain": [
       "    Sex  Cholesterol  FastingBS  MaxHR ExerciseAngina  Oldpeak  \\\n",
       "0     M          289          0    172              N      0.0   \n",
       "1     F          180          0    156              N      1.0   \n",
       "2     M          283          0     98              N      0.0   \n",
       "3     F          214          0    108              Y      1.5   \n",
       "4     M          195          0    122              N      0.0   \n",
       "..   ..          ...        ...    ...            ...      ...   \n",
       "913   M          264          0    132              N      1.2   \n",
       "914   M          193          1    141              N      3.4   \n",
       "915   M          131          0    115              Y      1.2   \n",
       "916   F          236          0    174              N      0.0   \n",
       "917   M          175          0    173              N      0.0   \n",
       "\n",
       "    grouped_ChestPainType grouped_ST_Slope  \n",
       "0                     ATA               Up  \n",
       "1                  TA/NAP           Not_Up  \n",
       "2                     ATA               Up  \n",
       "3                     ASY           Not_Up  \n",
       "4                  TA/NAP               Up  \n",
       "..                    ...              ...  \n",
       "913                TA/NAP           Not_Up  \n",
       "914                   ASY           Not_Up  \n",
       "915                   ASY           Not_Up  \n",
       "916                   ATA           Not_Up  \n",
       "917                TA/NAP               Up  \n",
       "\n",
       "[918 rows x 8 columns]"
      ]
     },
     "execution_count": 482,
     "metadata": {},
     "output_type": "execute_result"
    }
   ],
   "source": [
    "X"
   ]
  },
  {
   "cell_type": "code",
   "execution_count": 483,
   "id": "c103cef4",
   "metadata": {},
   "outputs": [
    {
     "data": {
      "text/plain": [
       "0      0\n",
       "1      1\n",
       "2      0\n",
       "3      1\n",
       "4      0\n",
       "      ..\n",
       "913    1\n",
       "914    1\n",
       "915    1\n",
       "916    1\n",
       "917    0\n",
       "Name: HeartDisease, Length: 918, dtype: int64"
      ]
     },
     "execution_count": 483,
     "metadata": {},
     "output_type": "execute_result"
    }
   ],
   "source": [
    "y"
   ]
  },
  {
   "cell_type": "code",
   "execution_count": 484,
   "id": "f9d2e0c3",
   "metadata": {},
   "outputs": [],
   "source": [
    "model = pipe_final.fit(X, y)"
   ]
  },
  {
   "cell_type": "markdown",
   "id": "927c852b",
   "metadata": {},
   "source": [
    "## Save ML Workflow as Pickle"
   ]
  },
  {
   "cell_type": "code",
   "execution_count": 485,
   "id": "c1b30506",
   "metadata": {},
   "outputs": [],
   "source": [
    "from joblib import dump"
   ]
  },
  {
   "cell_type": "code",
   "execution_count": 486,
   "id": "3007a88b",
   "metadata": {},
   "outputs": [
    {
     "data": {
      "text/plain": [
       "['heart_disease_predicition_model.joblib']"
      ]
     },
     "execution_count": 486,
     "metadata": {},
     "output_type": "execute_result"
    }
   ],
   "source": [
    "# serialize the model to our harddrive for future use\n",
    "dump(model, \"heart_disease_predicition_model.joblib\")"
   ]
  },
  {
   "cell_type": "markdown",
   "id": "945b7890",
   "metadata": {},
   "source": [
    "## Evaluate Model against Baseline"
   ]
  },
  {
   "cell_type": "code",
   "execution_count": 487,
   "id": "923a6368",
   "metadata": {},
   "outputs": [
    {
     "data": {
      "text/plain": [
       "0.5533769063180828"
      ]
     },
     "execution_count": 487,
     "metadata": {},
     "output_type": "execute_result"
    }
   ],
   "source": [
    "baseline"
   ]
  },
  {
   "cell_type": "code",
   "execution_count": 488,
   "id": "fd3c851f",
   "metadata": {},
   "outputs": [
    {
     "data": {
      "text/plain": [
       "0.96"
      ]
     },
     "execution_count": 488,
     "metadata": {},
     "output_type": "execute_result"
    }
   ],
   "source": [
    "recall_score(y_test, y_test_pred)"
   ]
  },
  {
   "cell_type": "markdown",
   "id": "73df79fe",
   "metadata": {},
   "source": [
    "Obviously, our recall score is way above our baseline. However, I would not say that this baseline is a valid number to try to beat, but it was the best I could come up with. Baseline is just the proportion of people in the data set that have heart disease, and that is not really what we are optimizing for. A more reasonable baseline would be to compare against the recall score of actual doctors diagnoses, i.e. how often do doctors wrongly tell patient with heart disease that he or she is healthy. However, since I do not have such data, this is what I had to base my analysis on."
   ]
  },
  {
   "cell_type": "code",
   "execution_count": null,
   "id": "69546fe8",
   "metadata": {},
   "outputs": [],
   "source": []
  },
  {
   "cell_type": "code",
   "execution_count": null,
   "id": "188651d7",
   "metadata": {},
   "outputs": [],
   "source": []
  },
  {
   "cell_type": "code",
   "execution_count": null,
   "id": "7ac668b8",
   "metadata": {},
   "outputs": [],
   "source": []
  },
  {
   "cell_type": "code",
   "execution_count": null,
   "id": "c231de63",
   "metadata": {},
   "outputs": [],
   "source": []
  },
  {
   "cell_type": "code",
   "execution_count": null,
   "id": "5e3b4a95",
   "metadata": {},
   "outputs": [],
   "source": []
  },
  {
   "cell_type": "code",
   "execution_count": null,
   "id": "f70d95ed",
   "metadata": {},
   "outputs": [],
   "source": []
  },
  {
   "cell_type": "code",
   "execution_count": null,
   "id": "7544a50a",
   "metadata": {},
   "outputs": [],
   "source": []
  },
  {
   "cell_type": "code",
   "execution_count": null,
   "id": "2e08c9b8",
   "metadata": {},
   "outputs": [],
   "source": []
  },
  {
   "cell_type": "code",
   "execution_count": null,
   "id": "20185bc8",
   "metadata": {},
   "outputs": [],
   "source": []
  },
  {
   "cell_type": "code",
   "execution_count": null,
   "id": "9aa41b9b",
   "metadata": {},
   "outputs": [],
   "source": []
  },
  {
   "cell_type": "code",
   "execution_count": null,
   "id": "c7dd7a0e",
   "metadata": {},
   "outputs": [],
   "source": []
  },
  {
   "cell_type": "code",
   "execution_count": null,
   "id": "17beafb5",
   "metadata": {},
   "outputs": [],
   "source": []
  },
  {
   "cell_type": "code",
   "execution_count": null,
   "id": "de2180f5",
   "metadata": {},
   "outputs": [],
   "source": []
  },
  {
   "cell_type": "code",
   "execution_count": null,
   "id": "b923656c",
   "metadata": {},
   "outputs": [],
   "source": []
  },
  {
   "cell_type": "code",
   "execution_count": null,
   "id": "ec1348a1",
   "metadata": {},
   "outputs": [],
   "source": []
  }
 ],
 "metadata": {
  "hide_input": false,
  "kernelspec": {
   "display_name": "Python 3 (ipykernel)",
   "language": "python",
   "name": "python3"
  },
  "language_info": {
   "codemirror_mode": {
    "name": "ipython",
    "version": 3
   },
   "file_extension": ".py",
   "mimetype": "text/x-python",
   "name": "python",
   "nbconvert_exporter": "python",
   "pygments_lexer": "ipython3",
   "version": "3.9.7"
  },
  "toc": {
   "base_numbering": 1,
   "nav_menu": {},
   "number_sections": false,
   "sideBar": true,
   "skip_h1_title": false,
   "title_cell": "Table of Contents",
   "title_sidebar": "Contents",
   "toc_cell": false,
   "toc_position": {
    "height": "calc(100% - 180px)",
    "left": "10px",
    "top": "150px",
    "width": "288px"
   },
   "toc_section_display": true,
   "toc_window_display": false
  }
 },
 "nbformat": 4,
 "nbformat_minor": 5
}
